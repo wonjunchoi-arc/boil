{
 "cells": [
  {
   "cell_type": "code",
   "execution_count": 18,
   "metadata": {
    "collapsed": true
   },
   "outputs": [],
   "source": [
    "import pandas as pd\n",
    "import numpy as np\n",
    "from selenium import webdriver\n",
    "import time\n",
    "import platform\n",
    "import matplotlib.pyplot as plt\n",
    "import re\n",
    "from selenium.webdriver.common.by import By\n",
    "from selenium.webdriver.support.ui import WebDriverWait\n",
    "from selenium.webdriver.support import expected_conditions as EC\n",
    "from bs4 import BeautifulSoup"
   ]
  },
  {
   "cell_type": "code",
   "execution_count": 19,
   "outputs": [],
   "source": [
    "driver = webdriver.Chrome('C:\\Program Files\\Google\\Chrome\\chromedriver.exe')\n",
    "driver.get(\"http://info.nec.go.kr/main/showDocument.xhtml?electionId=0000000000&topMenuId=VC&secondMenuId=VCCP09\")"
   ],
   "metadata": {
    "collapsed": false,
    "pycharm": {
     "name": "#%%.\n"
    }
   }
  },
  {
   "cell_type": "code",
   "execution_count": 20,
   "outputs": [
    {
     "ename": "WebDriverException",
     "evalue": "Message: chrome not reachable\n  (Session info: chrome=91.0.4472.114)\n",
     "output_type": "error",
     "traceback": [
      "\u001B[1;31m---------------------------------------------------------------------------\u001B[0m",
      "\u001B[1;31mWebDriverException\u001B[0m                        Traceback (most recent call last)",
      "\u001B[1;32m<ipython-input-20-f79b64d5a879>\u001B[0m in \u001B[0;36m<module>\u001B[1;34m\u001B[0m\n\u001B[1;32m----> 1\u001B[1;33m \u001B[0mdriver\u001B[0m\u001B[1;33m.\u001B[0m\u001B[0mfind_element_by_id\u001B[0m\u001B[1;33m(\u001B[0m\u001B[1;34m\"electionType1\"\u001B[0m\u001B[1;33m)\u001B[0m\u001B[1;33m.\u001B[0m\u001B[0mclick\u001B[0m\u001B[1;33m(\u001B[0m\u001B[1;33m)\u001B[0m\u001B[1;33m\u001B[0m\u001B[1;33m\u001B[0m\u001B[0m\n\u001B[0m\u001B[0;32m      2\u001B[0m \u001B[1;33m\u001B[0m\u001B[0m\n",
      "\u001B[1;32mC:\\ProgramData\\Anaconda3\\lib\\site-packages\\selenium\\webdriver\\remote\\webdriver.py\u001B[0m in \u001B[0;36mfind_element_by_id\u001B[1;34m(self, id_)\u001B[0m\n\u001B[0;32m    358\u001B[0m             \u001B[0melement\u001B[0m \u001B[1;33m=\u001B[0m \u001B[0mdriver\u001B[0m\u001B[1;33m.\u001B[0m\u001B[0mfind_element_by_id\u001B[0m\u001B[1;33m(\u001B[0m\u001B[1;34m'foo'\u001B[0m\u001B[1;33m)\u001B[0m\u001B[1;33m\u001B[0m\u001B[1;33m\u001B[0m\u001B[0m\n\u001B[0;32m    359\u001B[0m         \"\"\"\n\u001B[1;32m--> 360\u001B[1;33m         \u001B[1;32mreturn\u001B[0m \u001B[0mself\u001B[0m\u001B[1;33m.\u001B[0m\u001B[0mfind_element\u001B[0m\u001B[1;33m(\u001B[0m\u001B[0mby\u001B[0m\u001B[1;33m=\u001B[0m\u001B[0mBy\u001B[0m\u001B[1;33m.\u001B[0m\u001B[0mID\u001B[0m\u001B[1;33m,\u001B[0m \u001B[0mvalue\u001B[0m\u001B[1;33m=\u001B[0m\u001B[0mid_\u001B[0m\u001B[1;33m)\u001B[0m\u001B[1;33m\u001B[0m\u001B[1;33m\u001B[0m\u001B[0m\n\u001B[0m\u001B[0;32m    361\u001B[0m \u001B[1;33m\u001B[0m\u001B[0m\n\u001B[0;32m    362\u001B[0m     \u001B[1;32mdef\u001B[0m \u001B[0mfind_elements_by_id\u001B[0m\u001B[1;33m(\u001B[0m\u001B[0mself\u001B[0m\u001B[1;33m,\u001B[0m \u001B[0mid_\u001B[0m\u001B[1;33m)\u001B[0m\u001B[1;33m:\u001B[0m\u001B[1;33m\u001B[0m\u001B[1;33m\u001B[0m\u001B[0m\n",
      "\u001B[1;32mC:\\ProgramData\\Anaconda3\\lib\\site-packages\\selenium\\webdriver\\remote\\webdriver.py\u001B[0m in \u001B[0;36mfind_element\u001B[1;34m(self, by, value)\u001B[0m\n\u001B[0;32m    974\u001B[0m                 \u001B[0mby\u001B[0m \u001B[1;33m=\u001B[0m \u001B[0mBy\u001B[0m\u001B[1;33m.\u001B[0m\u001B[0mCSS_SELECTOR\u001B[0m\u001B[1;33m\u001B[0m\u001B[1;33m\u001B[0m\u001B[0m\n\u001B[0;32m    975\u001B[0m                 \u001B[0mvalue\u001B[0m \u001B[1;33m=\u001B[0m \u001B[1;34m'[name=\"%s\"]'\u001B[0m \u001B[1;33m%\u001B[0m \u001B[0mvalue\u001B[0m\u001B[1;33m\u001B[0m\u001B[1;33m\u001B[0m\u001B[0m\n\u001B[1;32m--> 976\u001B[1;33m         return self.execute(Command.FIND_ELEMENT, {\n\u001B[0m\u001B[0;32m    977\u001B[0m             \u001B[1;34m'using'\u001B[0m\u001B[1;33m:\u001B[0m \u001B[0mby\u001B[0m\u001B[1;33m,\u001B[0m\u001B[1;33m\u001B[0m\u001B[1;33m\u001B[0m\u001B[0m\n\u001B[0;32m    978\u001B[0m             'value': value})['value']\n",
      "\u001B[1;32mC:\\ProgramData\\Anaconda3\\lib\\site-packages\\selenium\\webdriver\\remote\\webdriver.py\u001B[0m in \u001B[0;36mexecute\u001B[1;34m(self, driver_command, params)\u001B[0m\n\u001B[0;32m    319\u001B[0m         \u001B[0mresponse\u001B[0m \u001B[1;33m=\u001B[0m \u001B[0mself\u001B[0m\u001B[1;33m.\u001B[0m\u001B[0mcommand_executor\u001B[0m\u001B[1;33m.\u001B[0m\u001B[0mexecute\u001B[0m\u001B[1;33m(\u001B[0m\u001B[0mdriver_command\u001B[0m\u001B[1;33m,\u001B[0m \u001B[0mparams\u001B[0m\u001B[1;33m)\u001B[0m\u001B[1;33m\u001B[0m\u001B[1;33m\u001B[0m\u001B[0m\n\u001B[0;32m    320\u001B[0m         \u001B[1;32mif\u001B[0m \u001B[0mresponse\u001B[0m\u001B[1;33m:\u001B[0m\u001B[1;33m\u001B[0m\u001B[1;33m\u001B[0m\u001B[0m\n\u001B[1;32m--> 321\u001B[1;33m             \u001B[0mself\u001B[0m\u001B[1;33m.\u001B[0m\u001B[0merror_handler\u001B[0m\u001B[1;33m.\u001B[0m\u001B[0mcheck_response\u001B[0m\u001B[1;33m(\u001B[0m\u001B[0mresponse\u001B[0m\u001B[1;33m)\u001B[0m\u001B[1;33m\u001B[0m\u001B[1;33m\u001B[0m\u001B[0m\n\u001B[0m\u001B[0;32m    322\u001B[0m             response['value'] = self._unwrap_value(\n\u001B[0;32m    323\u001B[0m                 response.get('value', None))\n",
      "\u001B[1;32mC:\\ProgramData\\Anaconda3\\lib\\site-packages\\selenium\\webdriver\\remote\\errorhandler.py\u001B[0m in \u001B[0;36mcheck_response\u001B[1;34m(self, response)\u001B[0m\n\u001B[0;32m    240\u001B[0m                 \u001B[0malert_text\u001B[0m \u001B[1;33m=\u001B[0m \u001B[0mvalue\u001B[0m\u001B[1;33m[\u001B[0m\u001B[1;34m'alert'\u001B[0m\u001B[1;33m]\u001B[0m\u001B[1;33m.\u001B[0m\u001B[0mget\u001B[0m\u001B[1;33m(\u001B[0m\u001B[1;34m'text'\u001B[0m\u001B[1;33m)\u001B[0m\u001B[1;33m\u001B[0m\u001B[1;33m\u001B[0m\u001B[0m\n\u001B[0;32m    241\u001B[0m             \u001B[1;32mraise\u001B[0m \u001B[0mexception_class\u001B[0m\u001B[1;33m(\u001B[0m\u001B[0mmessage\u001B[0m\u001B[1;33m,\u001B[0m \u001B[0mscreen\u001B[0m\u001B[1;33m,\u001B[0m \u001B[0mstacktrace\u001B[0m\u001B[1;33m,\u001B[0m \u001B[0malert_text\u001B[0m\u001B[1;33m)\u001B[0m\u001B[1;33m\u001B[0m\u001B[1;33m\u001B[0m\u001B[0m\n\u001B[1;32m--> 242\u001B[1;33m         \u001B[1;32mraise\u001B[0m \u001B[0mexception_class\u001B[0m\u001B[1;33m(\u001B[0m\u001B[0mmessage\u001B[0m\u001B[1;33m,\u001B[0m \u001B[0mscreen\u001B[0m\u001B[1;33m,\u001B[0m \u001B[0mstacktrace\u001B[0m\u001B[1;33m)\u001B[0m\u001B[1;33m\u001B[0m\u001B[1;33m\u001B[0m\u001B[0m\n\u001B[0m\u001B[0;32m    243\u001B[0m \u001B[1;33m\u001B[0m\u001B[0m\n\u001B[0;32m    244\u001B[0m     \u001B[1;32mdef\u001B[0m \u001B[0m_value_or_default\u001B[0m\u001B[1;33m(\u001B[0m\u001B[0mself\u001B[0m\u001B[1;33m,\u001B[0m \u001B[0mobj\u001B[0m\u001B[1;33m,\u001B[0m \u001B[0mkey\u001B[0m\u001B[1;33m,\u001B[0m \u001B[0mdefault\u001B[0m\u001B[1;33m)\u001B[0m\u001B[1;33m:\u001B[0m\u001B[1;33m\u001B[0m\u001B[1;33m\u001B[0m\u001B[0m\n",
      "\u001B[1;31mWebDriverException\u001B[0m: Message: chrome not reachable\n  (Session info: chrome=91.0.4472.114)\n"
     ]
    }
   ],
   "source": [
    "driver.find_element_by_id(\"electionType1\").click()"
   ],
   "metadata": {
    "collapsed": false,
    "pycharm": {
     "name": "#%%\n"
    }
   }
  },
  {
   "cell_type": "code",
   "execution_count": null,
   "outputs": [],
   "source": [
    "driver.find_element_by_id(\"electionName\").send_keys(\"제19대\")"
   ],
   "metadata": {
    "collapsed": false,
    "pycharm": {
     "name": "#%%\n"
    }
   }
  },
  {
   "cell_type": "code",
   "execution_count": null,
   "outputs": [],
   "source": [
    "driver.find_element_by_id(\"electionCode\").send_keys(\"대통령선거\")"
   ],
   "metadata": {
    "collapsed": false,
    "pycharm": {
     "name": "#%%\n"
    }
   }
  },
  {
   "cell_type": "code",
   "execution_count": null,
   "outputs": [],
   "source": [
    "sido_list_raw = driver.find_element_by_xpath(\"\"\"//*[@id=\"cityCode\"]\"\"\")\n",
    "sido_list = sido_list_raw.find_elements_by_tag_name(\"option\")\n",
    "sido_names_values = [option.text for option in sido_list]\n",
    "sido_names_values = sido_names_values[2:]\n",
    "sido_names_values"
   ],
   "metadata": {
    "collapsed": false,
    "pycharm": {
     "name": "#%%\n"
    }
   }
  },
  {
   "cell_type": "code",
   "execution_count": null,
   "outputs": [],
   "source": [
    "def get_num(a):\n",
    "    return float(re.split('\\(', a)[0].replace(',', ''))"
   ],
   "metadata": {
    "collapsed": false,
    "pycharm": {
     "name": "#%%\n"
    }
   }
  },
  {
   "cell_type": "code",
   "execution_count": null,
   "outputs": [],
   "source": [
    "wait = WebDriverWait(driver, 10)\n",
    "\n",
    "def move_sido(name):\n",
    "    element = driver.find_element_by_id(\"cityCode\")\n",
    "    element.send_keys(name)\n",
    "    make_xpath = \"\"\"//*[@id=\"searchBtn\"]\"\"\"\n",
    "    wait.until(EC.element_to_be_clickable((By.XPATH, make_xpath)))\n",
    "    driver.find_element_by_xpath(make_xpath).click()"
   ],
   "metadata": {
    "collapsed": false,
    "pycharm": {
     "name": "#%%\n"
    }
   }
  },
  {
   "cell_type": "code",
   "execution_count": null,
   "outputs": [],
   "source": [
    "def append_data(df, sido_name, data):\n",
    "    for each in df[0].values[1:]:\n",
    "        data['광역시도'].append(sido_name)\n",
    "        data['시군'].append(each[0])\n",
    "        data['pop'].append((each[2]))\n",
    "        data['moon'].append(get_num(each[3]))\n",
    "        data['hong'].append(get_num(each[4]))\n",
    "        data['ahn'].append(get_num(each[5]))"
   ],
   "metadata": {
    "collapsed": false,
    "pycharm": {
     "name": "#%%\n"
    }
   }
  },
  {
   "cell_type": "code",
   "execution_count": null,
   "outputs": [],
   "source": [
    "election_result_raw = {'광역시도' : [],\n",
    "                       '시군' : [],\n",
    "                       'pop' : [],\n",
    "                       'moon' : [],\n",
    "                       'hong' : [],\n",
    "                       'ahn' : [] }"
   ],
   "metadata": {
    "collapsed": false,
    "pycharm": {
     "name": "#%%\n"
    }
   }
  },
  {
   "cell_type": "code",
   "execution_count": null,
   "outputs": [],
   "source": [
    "for each_sido in sido_names_values:\n",
    "    move_sido(each_sido)\n",
    "\n",
    "    html = driver.page_source\n",
    "    soup = BeautifulSoup(html, 'html.parser')\n",
    "    table = soup.find('table')\n",
    "\n",
    "    df = pd.read_html(str(table))\n",
    "\n",
    "    append_data(df, each_sido, election_result_raw)"
   ],
   "metadata": {
    "collapsed": false,
    "pycharm": {
     "name": "#%%\n"
    }
   }
  },
  {
   "cell_type": "code",
   "execution_count": null,
   "outputs": [],
   "source": [
    "election_result = pd.DataFrame(election_result_raw,\n",
    "                               columns=['광역시도', '시군', 'pop', 'moon','hong','ahn'])\n",
    "election_result"
   ],
   "metadata": {
    "collapsed": false,
    "pycharm": {
     "name": "#%%\n"
    }
   }
  },
  {
   "cell_type": "code",
   "execution_count": null,
   "outputs": [],
   "source": [
    "election_result.to_csv('./data_saved/05. election_result.csv', encoding='utf-8', sep=',')"
   ],
   "metadata": {
    "collapsed": false,
    "pycharm": {
     "name": "#%%\n"
    }
   }
  },
  {
   "cell_type": "code",
   "execution_count": null,
   "outputs": [],
   "source": [
    "driver.close()"
   ],
   "metadata": {
    "collapsed": false,
    "pycharm": {
     "name": "#%%\n"
    }
   }
  },
  {
   "cell_type": "code",
   "execution_count": 21,
   "outputs": [
    {
     "data": {
      "text/plain": "    광역시도   시군     pop      moon     hong      ahn\n0  서울특별시  종로구  102566   42512.0  22325.0  22313.0\n1  서울특별시   중구   82852   34062.0  17901.0  19372.0\n2  서울특별시  용산구  148157   58081.0  35230.0  32109.0\n3  서울특별시  성동구  203175   86686.0  40566.0  45674.0\n4  서울특별시  광진구  240030  105512.0  46368.0  52824.0",
      "text/html": "<div>\n<style scoped>\n    .dataframe tbody tr th:only-of-type {\n        vertical-align: middle;\n    }\n\n    .dataframe tbody tr th {\n        vertical-align: top;\n    }\n\n    .dataframe thead th {\n        text-align: right;\n    }\n</style>\n<table border=\"1\" class=\"dataframe\">\n  <thead>\n    <tr style=\"text-align: right;\">\n      <th></th>\n      <th>광역시도</th>\n      <th>시군</th>\n      <th>pop</th>\n      <th>moon</th>\n      <th>hong</th>\n      <th>ahn</th>\n    </tr>\n  </thead>\n  <tbody>\n    <tr>\n      <th>0</th>\n      <td>서울특별시</td>\n      <td>종로구</td>\n      <td>102566</td>\n      <td>42512.0</td>\n      <td>22325.0</td>\n      <td>22313.0</td>\n    </tr>\n    <tr>\n      <th>1</th>\n      <td>서울특별시</td>\n      <td>중구</td>\n      <td>82852</td>\n      <td>34062.0</td>\n      <td>17901.0</td>\n      <td>19372.0</td>\n    </tr>\n    <tr>\n      <th>2</th>\n      <td>서울특별시</td>\n      <td>용산구</td>\n      <td>148157</td>\n      <td>58081.0</td>\n      <td>35230.0</td>\n      <td>32109.0</td>\n    </tr>\n    <tr>\n      <th>3</th>\n      <td>서울특별시</td>\n      <td>성동구</td>\n      <td>203175</td>\n      <td>86686.0</td>\n      <td>40566.0</td>\n      <td>45674.0</td>\n    </tr>\n    <tr>\n      <th>4</th>\n      <td>서울특별시</td>\n      <td>광진구</td>\n      <td>240030</td>\n      <td>105512.0</td>\n      <td>46368.0</td>\n      <td>52824.0</td>\n    </tr>\n  </tbody>\n</table>\n</div>"
     },
     "execution_count": 21,
     "metadata": {},
     "output_type": "execute_result"
    }
   ],
   "source": [
    "election_result = pd.read_csv('./data_saved/05. election_result.csv', encoding='utf-8',\n",
    "                              index_col=0)\n",
    "election_result.head()"
   ],
   "metadata": {
    "collapsed": false,
    "pycharm": {
     "name": "#%%\n"
    }
   }
  },
  {
   "cell_type": "code",
   "execution_count": 22,
   "outputs": [],
   "source": [
    "sido_candi =  election_result['광역시도']\n",
    "sido_candi = [name[:2] if name[:2]\n",
    "                                          in ['서울','부산','대구','광주','인천','대전','울산']\n",
    "                                    else '' for name in sido_candi]"
   ],
   "metadata": {
    "collapsed": false,
    "pycharm": {
     "name": "#%%\n"
    }
   }
  },
  {
   "cell_type": "code",
   "execution_count": 23,
   "outputs": [],
   "source": [
    "def cut_char_sigu(name):\n",
    "    return name if len(name)==2 else name[:-1]"
   ],
   "metadata": {
    "collapsed": false,
    "pycharm": {
     "name": "#%%\n"
    }
   }
  },
  {
   "cell_type": "code",
   "execution_count": 24,
   "outputs": [
    {
     "data": {
      "text/plain": "['종로',\n '중구',\n '용산',\n '성동',\n '광진',\n '동대문',\n '중랑',\n '성북',\n '강북',\n '도봉',\n '노원',\n '은평',\n '서대문',\n '마포',\n '양천',\n '강서',\n '구로',\n '금천',\n '영등포',\n '동작',\n '관악',\n '서초',\n '강남',\n '송파',\n '강동',\n '중구',\n '서구',\n '동구',\n '영도',\n '부산진',\n '동래',\n '남구',\n '북구',\n '해운대',\n '기장',\n '사하',\n '금정',\n '강서',\n '연제',\n '수영',\n '사상',\n '중구',\n '동구',\n '서구',\n '남구',\n '북구',\n '수성',\n '달서',\n '달성',\n '중구',\n '동구',\n '남구',\n '연수',\n '남동',\n '부평',\n '계양',\n '서구',\n '강화',\n '옹진',\n '동구',\n '서구',\n '남구',\n '북구',\n '광산',\n '동구',\n '중구',\n '서구',\n '유성',\n '대덕',\n '중구',\n '남구',\n '동구',\n '북구',\n '울주',\n '세종특별자치',\n '수원 장안',\n '수원 권선',\n '수원 팔달',\n '수원 영통',\n '성남 수정',\n '성남 중원',\n '성남 분당',\n '의정부',\n '안양 만안',\n '안양 동안',\n '부천',\n '광명',\n '평택',\n '양주',\n '동두천',\n '안산 상록',\n '안산 단원',\n '고양 덕양',\n '고양 일산동',\n '고양 일산서',\n '과천',\n '의왕',\n '구리',\n '남양주',\n '오산',\n '화성',\n '시흥',\n '군포',\n '하남',\n '파주',\n '여주',\n '이천',\n '용인 처인',\n '용인 수지',\n '용인 기흥',\n '안성',\n '김포',\n '광주',\n '포천',\n '연천',\n '양평',\n '가평',\n '춘천',\n '원주',\n '강릉',\n '동해',\n '삼척',\n '태백',\n '정선',\n '속초',\n '고성',\n '양양',\n '인제',\n '홍천',\n '횡성',\n '영월',\n '평창',\n '화천',\n '양구',\n '철원',\n '청주 상당',\n '청주 서원',\n '청주 흥덕',\n '청주 청원',\n '충주',\n '제천',\n '단양',\n '영동',\n '보은',\n '옥천',\n '음성',\n '진천',\n '괴산',\n '증평',\n '천안 서북',\n '천안 동남',\n '공주',\n '보령',\n '아산',\n '서산',\n '태안',\n '금산',\n '논산',\n '계룡',\n '당진',\n '부여',\n '서천',\n '홍성',\n '청양',\n '예산',\n '전주 완산',\n '전주 덕진',\n '군산',\n '익산',\n '정읍',\n '남원',\n '김제',\n '완주',\n '진안',\n '무주',\n '장수',\n '임실',\n '순창',\n '고창',\n '부안',\n '목포',\n '여수',\n '순천',\n '나주',\n '광양',\n '담양',\n '장성',\n '곡성',\n '구례',\n '고흥',\n '보성',\n '화순',\n '장흥',\n '강진',\n '완도',\n '해남',\n '진도',\n '영암',\n '무안',\n '영광',\n '함평',\n '신안',\n '포항 북구',\n '포항 남구',\n '울릉',\n '경주',\n '김천',\n '안동',\n '구미',\n '영주',\n '영천',\n '상주',\n '문경',\n '예천',\n '경산',\n '청도',\n '고령',\n '성주',\n '칠곡',\n '군위',\n '의성',\n '청송',\n '영양',\n '영덕',\n '봉화',\n '울진',\n '창원 의창',\n '창원 성산',\n '창원 마산합포',\n '창원 마산회원',\n '창원 진해',\n '진주',\n '통영',\n '고성',\n '사천',\n '김해',\n '밀양',\n '거제',\n '의령',\n '함안',\n '창녕',\n '양산',\n '하동',\n '남해',\n '함양',\n '산청',\n '거창',\n '합천',\n '제주',\n '서귀포']"
     },
     "execution_count": 24,
     "metadata": {},
     "output_type": "execute_result"
    }
   ],
   "source": [
    "sigun_candi = ['']*len(election_result)\n",
    "\n",
    "for n in election_result.index:\n",
    "    each = election_result['시군'][n]\n",
    "    if each[:2] in ['수원', '성남','안양','안산','고양',\n",
    "                            '용인','청주','천안','전주','포항','창원']:\n",
    "        sigun_candi[n] = re.split('시', each)[0]+' '+ \\\n",
    "                                                        cut_char_sigu(re.split('시', each)[1])\n",
    "    else:\n",
    "        sigun_candi[n] = cut_char_sigu(each)\n",
    "\n",
    "sigun_candi\n"
   ],
   "metadata": {
    "collapsed": false,
    "pycharm": {
     "name": "#%%\n"
    }
   }
  },
  {
   "cell_type": "code",
   "execution_count": 25,
   "outputs": [
    {
     "data": {
      "text/plain": "['서울 종로',\n '서울 중구',\n '서울 용산',\n '서울 성동',\n '서울 광진',\n '서울 동대문',\n '서울 중랑',\n '서울 성북',\n '서울 강북',\n '서울 도봉',\n '서울 노원',\n '서울 은평',\n '서울 서대문',\n '서울 마포',\n '서울 양천',\n '서울 강서',\n '서울 구로',\n '서울 금천',\n '서울 영등포',\n '서울 동작',\n '서울 관악',\n '서울 서초',\n '서울 강남',\n '서울 송파',\n '서울 강동',\n '부산 중구',\n '부산 서구',\n '부산 동구',\n '부산 영도',\n '부산 부산진',\n '부산 동래',\n '부산 남구',\n '부산 북구',\n '부산 해운대',\n '부산 기장',\n '부산 사하',\n '부산 금정',\n '부산 강서',\n '부산 연제',\n '부산 수영',\n '부산 사상',\n '대구 중구',\n '대구 동구',\n '대구 서구',\n '대구 남구',\n '대구 북구',\n '대구 수성',\n '대구 달서',\n '대구 달성',\n '인천 중구',\n '인천 동구',\n '인천 남구',\n '인천 연수',\n '인천 남동',\n '인천 부평',\n '인천 계양',\n '인천 서구',\n '인천 강화',\n '인천 옹진',\n '광주 동구',\n '광주 서구',\n '광주 남구',\n '광주 북구',\n '광주 광산',\n '대전 동구',\n '대전 중구',\n '대전 서구',\n '대전 유성',\n '대전 대덕',\n '울산 중구',\n '울산 남구',\n '울산 동구',\n '울산 북구',\n '울산 울주',\n '세종',\n '수원 장안',\n '수원 권선',\n '수원 팔달',\n '수원 영통',\n '성남 수정',\n '성남 중원',\n '성남 분당',\n '의정부',\n '안양 만안',\n '안양 동안',\n '부천',\n '광명',\n '평택',\n '양주',\n '동두천',\n '안산 상록',\n '안산 단원',\n '고양 덕양',\n '고양 일산동',\n '고양 일산서',\n '과천',\n '의왕',\n '구리',\n '남양주',\n '오산',\n '화성',\n '시흥',\n '군포',\n '하남',\n '파주',\n '여주',\n '이천',\n '용인 처인',\n '용인 수지',\n '용인 기흥',\n '안성',\n '김포',\n '광주',\n '포천',\n '연천',\n '양평',\n '가평',\n '춘천',\n '원주',\n '강릉',\n '동해',\n '삼척',\n '태백',\n '정선',\n '속초',\n '고성',\n '양양',\n '인제',\n '홍천',\n '횡성',\n '영월',\n '평창',\n '화천',\n '양구',\n '철원',\n '청주 상당',\n '청주 서원',\n '청주 흥덕',\n '청주 청원',\n '충주',\n '제천',\n '단양',\n '영동',\n '보은',\n '옥천',\n '음성',\n '진천',\n '괴산',\n '증평',\n '천안 서북',\n '천안 동남',\n '공주',\n '보령',\n '아산',\n '서산',\n '태안',\n '금산',\n '논산',\n '계룡',\n '당진',\n '부여',\n '서천',\n '홍성',\n '청양',\n '예산',\n '전주 완산',\n '전주 덕진',\n '군산',\n '익산',\n '정읍',\n '남원',\n '김제',\n '완주',\n '진안',\n '무주',\n '장수',\n '임실',\n '순창',\n '고창',\n '부안',\n '목포',\n '여수',\n '순천',\n '나주',\n '광양',\n '담양',\n '장성',\n '곡성',\n '구례',\n '고흥',\n '보성',\n '화순',\n '장흥',\n '강진',\n '완도',\n '해남',\n '진도',\n '영암',\n '무안',\n '영광',\n '함평',\n '신안',\n '포항 북구',\n '포항 남구',\n '울릉',\n '경주',\n '김천',\n '안동',\n '구미',\n '영주',\n '영천',\n '상주',\n '문경',\n '예천',\n '경산',\n '청도',\n '고령',\n '성주',\n '칠곡',\n '군위',\n '의성',\n '청송',\n '영양',\n '영덕',\n '봉화',\n '울진',\n '창원 의창',\n '창원 성산',\n '창원 마산합포',\n '창원 마산회원',\n '창원 진해',\n '진주',\n '통영',\n '고성',\n '사천',\n '김해',\n '밀양',\n '거제',\n '의령',\n '함안',\n '창녕',\n '양산',\n '하동',\n '남해',\n '함양',\n '산청',\n '거창',\n '합천',\n '제주',\n '서귀포']"
     },
     "execution_count": 25,
     "metadata": {},
     "output_type": "execute_result"
    }
   ],
   "source": [
    "ID_candi = [sido_candi[n]+' '+sigun_candi[n] for n in range(0,len(sigun_candi))]\n",
    "\n",
    "ID_candi = [name[1:] if name[0]==' ' else name for name in ID_candi]\n",
    "ID_candi = [name[:2] if name[:2]=='세종' else name for name in ID_candi]\n",
    "\n",
    "ID_candi"
   ],
   "metadata": {
    "collapsed": false,
    "pycharm": {
     "name": "#%%\n"
    }
   }
  },
  {
   "cell_type": "code",
   "execution_count": 26,
   "outputs": [
    {
     "data": {
      "text/plain": "    광역시도    시군     pop      moon     hong      ahn      ID\n0  서울특별시   종로구  102566   42512.0  22325.0  22313.0   서울 종로\n1  서울특별시    중구   82852   34062.0  17901.0  19372.0   서울 중구\n2  서울특별시   용산구  148157   58081.0  35230.0  32109.0   서울 용산\n3  서울특별시   성동구  203175   86686.0  40566.0  45674.0   서울 성동\n4  서울특별시   광진구  240030  105512.0  46368.0  52824.0   서울 광진\n5  서울특별시  동대문구  236092   98958.0  51631.0  53359.0  서울 동대문\n6  서울특별시   중랑구  265706  111450.0  56545.0  62778.0   서울 중랑\n7  서울특별시   성북구  295866  129263.0  57584.0  66518.0   서울 성북\n8  서울특별시   강북구  210614   89645.0  42268.0  51669.0   서울 강북\n9  서울특별시   도봉구  229233   94898.0  47461.0  55600.0   서울 도봉",
      "text/html": "<div>\n<style scoped>\n    .dataframe tbody tr th:only-of-type {\n        vertical-align: middle;\n    }\n\n    .dataframe tbody tr th {\n        vertical-align: top;\n    }\n\n    .dataframe thead th {\n        text-align: right;\n    }\n</style>\n<table border=\"1\" class=\"dataframe\">\n  <thead>\n    <tr style=\"text-align: right;\">\n      <th></th>\n      <th>광역시도</th>\n      <th>시군</th>\n      <th>pop</th>\n      <th>moon</th>\n      <th>hong</th>\n      <th>ahn</th>\n      <th>ID</th>\n    </tr>\n  </thead>\n  <tbody>\n    <tr>\n      <th>0</th>\n      <td>서울특별시</td>\n      <td>종로구</td>\n      <td>102566</td>\n      <td>42512.0</td>\n      <td>22325.0</td>\n      <td>22313.0</td>\n      <td>서울 종로</td>\n    </tr>\n    <tr>\n      <th>1</th>\n      <td>서울특별시</td>\n      <td>중구</td>\n      <td>82852</td>\n      <td>34062.0</td>\n      <td>17901.0</td>\n      <td>19372.0</td>\n      <td>서울 중구</td>\n    </tr>\n    <tr>\n      <th>2</th>\n      <td>서울특별시</td>\n      <td>용산구</td>\n      <td>148157</td>\n      <td>58081.0</td>\n      <td>35230.0</td>\n      <td>32109.0</td>\n      <td>서울 용산</td>\n    </tr>\n    <tr>\n      <th>3</th>\n      <td>서울특별시</td>\n      <td>성동구</td>\n      <td>203175</td>\n      <td>86686.0</td>\n      <td>40566.0</td>\n      <td>45674.0</td>\n      <td>서울 성동</td>\n    </tr>\n    <tr>\n      <th>4</th>\n      <td>서울특별시</td>\n      <td>광진구</td>\n      <td>240030</td>\n      <td>105512.0</td>\n      <td>46368.0</td>\n      <td>52824.0</td>\n      <td>서울 광진</td>\n    </tr>\n    <tr>\n      <th>5</th>\n      <td>서울특별시</td>\n      <td>동대문구</td>\n      <td>236092</td>\n      <td>98958.0</td>\n      <td>51631.0</td>\n      <td>53359.0</td>\n      <td>서울 동대문</td>\n    </tr>\n    <tr>\n      <th>6</th>\n      <td>서울특별시</td>\n      <td>중랑구</td>\n      <td>265706</td>\n      <td>111450.0</td>\n      <td>56545.0</td>\n      <td>62778.0</td>\n      <td>서울 중랑</td>\n    </tr>\n    <tr>\n      <th>7</th>\n      <td>서울특별시</td>\n      <td>성북구</td>\n      <td>295866</td>\n      <td>129263.0</td>\n      <td>57584.0</td>\n      <td>66518.0</td>\n      <td>서울 성북</td>\n    </tr>\n    <tr>\n      <th>8</th>\n      <td>서울특별시</td>\n      <td>강북구</td>\n      <td>210614</td>\n      <td>89645.0</td>\n      <td>42268.0</td>\n      <td>51669.0</td>\n      <td>서울 강북</td>\n    </tr>\n    <tr>\n      <th>9</th>\n      <td>서울특별시</td>\n      <td>도봉구</td>\n      <td>229233</td>\n      <td>94898.0</td>\n      <td>47461.0</td>\n      <td>55600.0</td>\n      <td>서울 도봉</td>\n    </tr>\n  </tbody>\n</table>\n</div>"
     },
     "execution_count": 26,
     "metadata": {},
     "output_type": "execute_result"
    }
   ],
   "source": [
    "election_result['ID'] = ID_candi\n",
    "election_result.head(10)"
   ],
   "metadata": {
    "collapsed": false,
    "pycharm": {
     "name": "#%%\n"
    }
   }
  },
  {
   "cell_type": "code",
   "execution_count": 27,
   "outputs": [
    {
     "data": {
      "text/plain": "    광역시도   시군     pop      moon     hong      ahn     ID  rate_moon  \\\n0  서울특별시  종로구  102566   42512.0  22325.0  22313.0  서울 종로  41.448433   \n1  서울특별시   중구   82852   34062.0  17901.0  19372.0  서울 중구  41.111862   \n2  서울특별시  용산구  148157   58081.0  35230.0  32109.0  서울 용산  39.202333   \n3  서울특별시  성동구  203175   86686.0  40566.0  45674.0  서울 성동  42.665682   \n4  서울특별시  광진구  240030  105512.0  46368.0  52824.0  서울 광진  43.957839   \n\n   rate_hong   rate_ahn  \n0  21.766472  21.754773  \n1  21.605996  23.381451  \n2  23.778829  21.672280  \n3  19.966039  22.480128  \n4  19.317585  22.007249  ",
      "text/html": "<div>\n<style scoped>\n    .dataframe tbody tr th:only-of-type {\n        vertical-align: middle;\n    }\n\n    .dataframe tbody tr th {\n        vertical-align: top;\n    }\n\n    .dataframe thead th {\n        text-align: right;\n    }\n</style>\n<table border=\"1\" class=\"dataframe\">\n  <thead>\n    <tr style=\"text-align: right;\">\n      <th></th>\n      <th>광역시도</th>\n      <th>시군</th>\n      <th>pop</th>\n      <th>moon</th>\n      <th>hong</th>\n      <th>ahn</th>\n      <th>ID</th>\n      <th>rate_moon</th>\n      <th>rate_hong</th>\n      <th>rate_ahn</th>\n    </tr>\n  </thead>\n  <tbody>\n    <tr>\n      <th>0</th>\n      <td>서울특별시</td>\n      <td>종로구</td>\n      <td>102566</td>\n      <td>42512.0</td>\n      <td>22325.0</td>\n      <td>22313.0</td>\n      <td>서울 종로</td>\n      <td>41.448433</td>\n      <td>21.766472</td>\n      <td>21.754773</td>\n    </tr>\n    <tr>\n      <th>1</th>\n      <td>서울특별시</td>\n      <td>중구</td>\n      <td>82852</td>\n      <td>34062.0</td>\n      <td>17901.0</td>\n      <td>19372.0</td>\n      <td>서울 중구</td>\n      <td>41.111862</td>\n      <td>21.605996</td>\n      <td>23.381451</td>\n    </tr>\n    <tr>\n      <th>2</th>\n      <td>서울특별시</td>\n      <td>용산구</td>\n      <td>148157</td>\n      <td>58081.0</td>\n      <td>35230.0</td>\n      <td>32109.0</td>\n      <td>서울 용산</td>\n      <td>39.202333</td>\n      <td>23.778829</td>\n      <td>21.672280</td>\n    </tr>\n    <tr>\n      <th>3</th>\n      <td>서울특별시</td>\n      <td>성동구</td>\n      <td>203175</td>\n      <td>86686.0</td>\n      <td>40566.0</td>\n      <td>45674.0</td>\n      <td>서울 성동</td>\n      <td>42.665682</td>\n      <td>19.966039</td>\n      <td>22.480128</td>\n    </tr>\n    <tr>\n      <th>4</th>\n      <td>서울특별시</td>\n      <td>광진구</td>\n      <td>240030</td>\n      <td>105512.0</td>\n      <td>46368.0</td>\n      <td>52824.0</td>\n      <td>서울 광진</td>\n      <td>43.957839</td>\n      <td>19.317585</td>\n      <td>22.007249</td>\n    </tr>\n  </tbody>\n</table>\n</div>"
     },
     "execution_count": 27,
     "metadata": {},
     "output_type": "execute_result"
    }
   ],
   "source": [
    "election_result[['rate_moon','rate_hong','rate_ahn']] = \\\n",
    "            election_result[['moon','hong','ahn']].div(election_result['pop'],  axis=0)\n",
    "election_result[['rate_moon','rate_hong','rate_ahn']] *= 100\n",
    "election_result.head()"
   ],
   "metadata": {
    "collapsed": false,
    "pycharm": {
     "name": "#%%\n"
    }
   }
  },
  {
   "cell_type": "code",
   "execution_count": 28,
   "outputs": [
    {
     "data": {
      "text/plain": "   y   x      ID\n0  0   7      철원\n1  0   8      화천\n2  0   9      양구\n3  0  10  고성(강원)\n4  1   3      양주",
      "text/html": "<div>\n<style scoped>\n    .dataframe tbody tr th:only-of-type {\n        vertical-align: middle;\n    }\n\n    .dataframe tbody tr th {\n        vertical-align: top;\n    }\n\n    .dataframe thead th {\n        text-align: right;\n    }\n</style>\n<table border=\"1\" class=\"dataframe\">\n  <thead>\n    <tr style=\"text-align: right;\">\n      <th></th>\n      <th>y</th>\n      <th>x</th>\n      <th>ID</th>\n    </tr>\n  </thead>\n  <tbody>\n    <tr>\n      <th>0</th>\n      <td>0</td>\n      <td>7</td>\n      <td>철원</td>\n    </tr>\n    <tr>\n      <th>1</th>\n      <td>0</td>\n      <td>8</td>\n      <td>화천</td>\n    </tr>\n    <tr>\n      <th>2</th>\n      <td>0</td>\n      <td>9</td>\n      <td>양구</td>\n    </tr>\n    <tr>\n      <th>3</th>\n      <td>0</td>\n      <td>10</td>\n      <td>고성(강원)</td>\n    </tr>\n    <tr>\n      <th>4</th>\n      <td>1</td>\n      <td>3</td>\n      <td>양주</td>\n    </tr>\n  </tbody>\n</table>\n</div>"
     },
     "execution_count": 28,
     "metadata": {},
     "output_type": "execute_result"
    }
   ],
   "source": [
    "election_result.sort_values(['rate_moon'], ascending=[False]).head(10)\n",
    "election_result.sort_values(['rate_hong'], ascending=[False]).head(10)\n",
    "election_result.sort_values(['rate_ahn'], ascending=[False]).head(10)\n",
    "\n",
    "draw_korea = pd.read_csv('./data_saved/05. draw_korea.csv', encoding='utf-8', index_col=0)\n",
    "\n",
    "draw_korea.head()"
   ],
   "metadata": {
    "collapsed": false,
    "pycharm": {
     "name": "#%%\n"
    }
   }
  },
  {
   "cell_type": "code",
   "execution_count": 29,
   "outputs": [
    {
     "data": {
      "text/plain": "{'고성(강원)', '고성(경남)', '부천 소사', '부천 오정', '부천 원미', '창원 합포', '창원 회원'}"
     },
     "execution_count": 29,
     "metadata": {},
     "output_type": "execute_result"
    }
   ],
   "source": [
    "set(draw_korea['ID'].unique()) - set(election_result['ID'].unique())"
   ],
   "metadata": {
    "collapsed": false,
    "pycharm": {
     "name": "#%%\n"
    }
   }
  },
  {
   "cell_type": "code",
   "execution_count": 30,
   "outputs": [
    {
     "data": {
      "text/plain": "{'고성', '부천', '창원 마산합포', '창원 마산회원'}"
     },
     "execution_count": 30,
     "metadata": {},
     "output_type": "execute_result"
    }
   ],
   "source": [
    "set(election_result['ID'].unique()) - set(draw_korea['ID'].unique())"
   ],
   "metadata": {
    "collapsed": false,
    "pycharm": {
     "name": "#%%\n"
    }
   }
  },
  {
   "cell_type": "code",
   "execution_count": 31,
   "outputs": [
    {
     "data": {
      "text/plain": "     광역시도   시군    pop    moon     hong     ahn  ID  rate_moon  rate_hong  \\\n125   강원도  고성군  18692  5664.0   6511.0  3964.0  고성  30.301733  34.833084   \n233  경상남도  고성군  34603  9848.0  16797.0  4104.0  고성  28.459960  48.542034   \n\n      rate_ahn  \n125  21.206933  \n233  11.860243  ",
      "text/html": "<div>\n<style scoped>\n    .dataframe tbody tr th:only-of-type {\n        vertical-align: middle;\n    }\n\n    .dataframe tbody tr th {\n        vertical-align: top;\n    }\n\n    .dataframe thead th {\n        text-align: right;\n    }\n</style>\n<table border=\"1\" class=\"dataframe\">\n  <thead>\n    <tr style=\"text-align: right;\">\n      <th></th>\n      <th>광역시도</th>\n      <th>시군</th>\n      <th>pop</th>\n      <th>moon</th>\n      <th>hong</th>\n      <th>ahn</th>\n      <th>ID</th>\n      <th>rate_moon</th>\n      <th>rate_hong</th>\n      <th>rate_ahn</th>\n    </tr>\n  </thead>\n  <tbody>\n    <tr>\n      <th>125</th>\n      <td>강원도</td>\n      <td>고성군</td>\n      <td>18692</td>\n      <td>5664.0</td>\n      <td>6511.0</td>\n      <td>3964.0</td>\n      <td>고성</td>\n      <td>30.301733</td>\n      <td>34.833084</td>\n      <td>21.206933</td>\n    </tr>\n    <tr>\n      <th>233</th>\n      <td>경상남도</td>\n      <td>고성군</td>\n      <td>34603</td>\n      <td>9848.0</td>\n      <td>16797.0</td>\n      <td>4104.0</td>\n      <td>고성</td>\n      <td>28.459960</td>\n      <td>48.542034</td>\n      <td>11.860243</td>\n    </tr>\n  </tbody>\n</table>\n</div>"
     },
     "execution_count": 31,
     "metadata": {},
     "output_type": "execute_result"
    }
   ],
   "source": [
    "election_result[election_result['ID'] == '고성']"
   ],
   "metadata": {
    "collapsed": false,
    "pycharm": {
     "name": "#%%\n"
    }
   }
  },
  {
   "cell_type": "code",
   "execution_count": 32,
   "outputs": [
    {
     "data": {
      "text/plain": "     광역시도   시군    pop    moon     hong     ahn      ID  rate_moon  rate_hong  \\\n125   강원도  고성군  18692  5664.0   6511.0  3964.0  고성(강원)  30.301733  34.833084   \n233  경상남도  고성군  34603  9848.0  16797.0  4104.0  고성(경남)  28.459960  48.542034   \n\n      rate_ahn  \n125  21.206933  \n233  11.860243  ",
      "text/html": "<div>\n<style scoped>\n    .dataframe tbody tr th:only-of-type {\n        vertical-align: middle;\n    }\n\n    .dataframe tbody tr th {\n        vertical-align: top;\n    }\n\n    .dataframe thead th {\n        text-align: right;\n    }\n</style>\n<table border=\"1\" class=\"dataframe\">\n  <thead>\n    <tr style=\"text-align: right;\">\n      <th></th>\n      <th>광역시도</th>\n      <th>시군</th>\n      <th>pop</th>\n      <th>moon</th>\n      <th>hong</th>\n      <th>ahn</th>\n      <th>ID</th>\n      <th>rate_moon</th>\n      <th>rate_hong</th>\n      <th>rate_ahn</th>\n    </tr>\n  </thead>\n  <tbody>\n    <tr>\n      <th>125</th>\n      <td>강원도</td>\n      <td>고성군</td>\n      <td>18692</td>\n      <td>5664.0</td>\n      <td>6511.0</td>\n      <td>3964.0</td>\n      <td>고성(강원)</td>\n      <td>30.301733</td>\n      <td>34.833084</td>\n      <td>21.206933</td>\n    </tr>\n    <tr>\n      <th>233</th>\n      <td>경상남도</td>\n      <td>고성군</td>\n      <td>34603</td>\n      <td>9848.0</td>\n      <td>16797.0</td>\n      <td>4104.0</td>\n      <td>고성(경남)</td>\n      <td>28.459960</td>\n      <td>48.542034</td>\n      <td>11.860243</td>\n    </tr>\n  </tbody>\n</table>\n</div>"
     },
     "execution_count": 32,
     "metadata": {},
     "output_type": "execute_result"
    }
   ],
   "source": [
    "election_result.loc[125, 'ID'] = '고성(강원)'\n",
    "election_result.loc[233, 'ID'] = '고성(경남)'\n",
    "\n",
    "election_result[election_result['시군'] == '고성군']"
   ],
   "metadata": {
    "collapsed": false,
    "pycharm": {
     "name": "#%%\n"
    }
   }
  },
  {
   "cell_type": "code",
   "execution_count": 33,
   "outputs": [
    {
     "data": {
      "text/plain": "     광역시도        시군     pop      moon     hong      ahn       ID  rate_moon  \\\n226  경상남도    창원시의창구  164047   60757.0  56887.0  22830.0    창원 의창  37.036337   \n227  경상남도    창원시성산구  153327   63717.0  42052.0  22923.0    창원 성산  41.556282   \n228  경상남도  창원시마산합포구  119281   35592.0  54488.0  14686.0  창원 마산합포  29.838784   \n229  경상남도  창원시마산회원구  136757   45014.0  56340.0  17744.0  창원 마산회원  32.915317   \n230  경상남도    창원시진해구  114779   41249.0  40049.0  17435.0    창원 진해  35.937759   \n231  경상남도       진주시  222813   73929.0  93751.0  26687.0       진주  33.179841   \n232  경상남도       통영시   82855   25477.0  36128.0  10738.0       통영  30.748899   \n233  경상남도       고성군   34603    9848.0  16797.0   4104.0   고성(경남)  28.459960   \n234  경상남도       사천시   71555   22370.0  32475.0   8350.0       사천  31.262665   \n235  경상남도       김해시  318253  147972.0  82880.0  45126.0       김해  46.495084   \n236  경상남도       밀양시   70687   20842.0  32394.0   9073.0       밀양  29.484912   \n237  경상남도       거제시  150230   68291.0  38775.0  20359.0       거제  45.457632   \n238  경상남도       의령군   19258    5115.0  10134.0   1984.0       의령  26.560390   \n239  경상남도       함안군   43866   13597.0  19809.0   5399.0       함안  30.996672   \n240  경상남도       창녕군   42878   10310.0  24464.0   3877.0       창녕  24.044965   \n241  경상남도       양산시  199835   83412.0  58811.0  30945.0       양산  41.740436   \n242  경상남도       하동군   34324   11211.0  14864.0   4150.0       하동  32.662277   \n243  경상남도       남해군   30208    8680.0  14166.0   3906.0       남해  28.734110   \n244  경상남도       함양군   26640    7388.0  13008.0   3203.0       함양  27.732733   \n245  경상남도       산청군   24513    6561.0  12544.0   2753.0       산청  26.765390   \n246  경상남도       거창군   41325   11256.0  19976.0   4923.0       거창  27.237750   \n247  경상남도       합천군   33021    7143.0  19699.0   3077.0       합천  21.631689   \n\n     rate_hong   rate_ahn  \n226  34.677257  13.916743  \n227  27.426350  14.950400  \n228  45.680368  12.312103  \n229  41.197160  12.974839  \n230  34.892271  15.190061  \n231  42.076091  11.977308  \n232  43.603886  12.959990  \n233  48.542034  11.860243  \n234  45.384669  11.669345  \n235  26.042174  14.179285  \n236  45.827380  12.835458  \n237  25.810424  13.551887  \n238  52.622287  10.302212  \n239  45.157981  12.307938  \n240  57.054900   9.041933  \n241  29.429780  15.485275  \n242  43.304976  12.090665  \n243  46.894862  12.930350  \n244  48.828829  12.023273  \n245  51.172847  11.230776  \n246  48.338778  11.912886  \n247  59.655976   9.318313  ",
      "text/html": "<div>\n<style scoped>\n    .dataframe tbody tr th:only-of-type {\n        vertical-align: middle;\n    }\n\n    .dataframe tbody tr th {\n        vertical-align: top;\n    }\n\n    .dataframe thead th {\n        text-align: right;\n    }\n</style>\n<table border=\"1\" class=\"dataframe\">\n  <thead>\n    <tr style=\"text-align: right;\">\n      <th></th>\n      <th>광역시도</th>\n      <th>시군</th>\n      <th>pop</th>\n      <th>moon</th>\n      <th>hong</th>\n      <th>ahn</th>\n      <th>ID</th>\n      <th>rate_moon</th>\n      <th>rate_hong</th>\n      <th>rate_ahn</th>\n    </tr>\n  </thead>\n  <tbody>\n    <tr>\n      <th>226</th>\n      <td>경상남도</td>\n      <td>창원시의창구</td>\n      <td>164047</td>\n      <td>60757.0</td>\n      <td>56887.0</td>\n      <td>22830.0</td>\n      <td>창원 의창</td>\n      <td>37.036337</td>\n      <td>34.677257</td>\n      <td>13.916743</td>\n    </tr>\n    <tr>\n      <th>227</th>\n      <td>경상남도</td>\n      <td>창원시성산구</td>\n      <td>153327</td>\n      <td>63717.0</td>\n      <td>42052.0</td>\n      <td>22923.0</td>\n      <td>창원 성산</td>\n      <td>41.556282</td>\n      <td>27.426350</td>\n      <td>14.950400</td>\n    </tr>\n    <tr>\n      <th>228</th>\n      <td>경상남도</td>\n      <td>창원시마산합포구</td>\n      <td>119281</td>\n      <td>35592.0</td>\n      <td>54488.0</td>\n      <td>14686.0</td>\n      <td>창원 마산합포</td>\n      <td>29.838784</td>\n      <td>45.680368</td>\n      <td>12.312103</td>\n    </tr>\n    <tr>\n      <th>229</th>\n      <td>경상남도</td>\n      <td>창원시마산회원구</td>\n      <td>136757</td>\n      <td>45014.0</td>\n      <td>56340.0</td>\n      <td>17744.0</td>\n      <td>창원 마산회원</td>\n      <td>32.915317</td>\n      <td>41.197160</td>\n      <td>12.974839</td>\n    </tr>\n    <tr>\n      <th>230</th>\n      <td>경상남도</td>\n      <td>창원시진해구</td>\n      <td>114779</td>\n      <td>41249.0</td>\n      <td>40049.0</td>\n      <td>17435.0</td>\n      <td>창원 진해</td>\n      <td>35.937759</td>\n      <td>34.892271</td>\n      <td>15.190061</td>\n    </tr>\n    <tr>\n      <th>231</th>\n      <td>경상남도</td>\n      <td>진주시</td>\n      <td>222813</td>\n      <td>73929.0</td>\n      <td>93751.0</td>\n      <td>26687.0</td>\n      <td>진주</td>\n      <td>33.179841</td>\n      <td>42.076091</td>\n      <td>11.977308</td>\n    </tr>\n    <tr>\n      <th>232</th>\n      <td>경상남도</td>\n      <td>통영시</td>\n      <td>82855</td>\n      <td>25477.0</td>\n      <td>36128.0</td>\n      <td>10738.0</td>\n      <td>통영</td>\n      <td>30.748899</td>\n      <td>43.603886</td>\n      <td>12.959990</td>\n    </tr>\n    <tr>\n      <th>233</th>\n      <td>경상남도</td>\n      <td>고성군</td>\n      <td>34603</td>\n      <td>9848.0</td>\n      <td>16797.0</td>\n      <td>4104.0</td>\n      <td>고성(경남)</td>\n      <td>28.459960</td>\n      <td>48.542034</td>\n      <td>11.860243</td>\n    </tr>\n    <tr>\n      <th>234</th>\n      <td>경상남도</td>\n      <td>사천시</td>\n      <td>71555</td>\n      <td>22370.0</td>\n      <td>32475.0</td>\n      <td>8350.0</td>\n      <td>사천</td>\n      <td>31.262665</td>\n      <td>45.384669</td>\n      <td>11.669345</td>\n    </tr>\n    <tr>\n      <th>235</th>\n      <td>경상남도</td>\n      <td>김해시</td>\n      <td>318253</td>\n      <td>147972.0</td>\n      <td>82880.0</td>\n      <td>45126.0</td>\n      <td>김해</td>\n      <td>46.495084</td>\n      <td>26.042174</td>\n      <td>14.179285</td>\n    </tr>\n    <tr>\n      <th>236</th>\n      <td>경상남도</td>\n      <td>밀양시</td>\n      <td>70687</td>\n      <td>20842.0</td>\n      <td>32394.0</td>\n      <td>9073.0</td>\n      <td>밀양</td>\n      <td>29.484912</td>\n      <td>45.827380</td>\n      <td>12.835458</td>\n    </tr>\n    <tr>\n      <th>237</th>\n      <td>경상남도</td>\n      <td>거제시</td>\n      <td>150230</td>\n      <td>68291.0</td>\n      <td>38775.0</td>\n      <td>20359.0</td>\n      <td>거제</td>\n      <td>45.457632</td>\n      <td>25.810424</td>\n      <td>13.551887</td>\n    </tr>\n    <tr>\n      <th>238</th>\n      <td>경상남도</td>\n      <td>의령군</td>\n      <td>19258</td>\n      <td>5115.0</td>\n      <td>10134.0</td>\n      <td>1984.0</td>\n      <td>의령</td>\n      <td>26.560390</td>\n      <td>52.622287</td>\n      <td>10.302212</td>\n    </tr>\n    <tr>\n      <th>239</th>\n      <td>경상남도</td>\n      <td>함안군</td>\n      <td>43866</td>\n      <td>13597.0</td>\n      <td>19809.0</td>\n      <td>5399.0</td>\n      <td>함안</td>\n      <td>30.996672</td>\n      <td>45.157981</td>\n      <td>12.307938</td>\n    </tr>\n    <tr>\n      <th>240</th>\n      <td>경상남도</td>\n      <td>창녕군</td>\n      <td>42878</td>\n      <td>10310.0</td>\n      <td>24464.0</td>\n      <td>3877.0</td>\n      <td>창녕</td>\n      <td>24.044965</td>\n      <td>57.054900</td>\n      <td>9.041933</td>\n    </tr>\n    <tr>\n      <th>241</th>\n      <td>경상남도</td>\n      <td>양산시</td>\n      <td>199835</td>\n      <td>83412.0</td>\n      <td>58811.0</td>\n      <td>30945.0</td>\n      <td>양산</td>\n      <td>41.740436</td>\n      <td>29.429780</td>\n      <td>15.485275</td>\n    </tr>\n    <tr>\n      <th>242</th>\n      <td>경상남도</td>\n      <td>하동군</td>\n      <td>34324</td>\n      <td>11211.0</td>\n      <td>14864.0</td>\n      <td>4150.0</td>\n      <td>하동</td>\n      <td>32.662277</td>\n      <td>43.304976</td>\n      <td>12.090665</td>\n    </tr>\n    <tr>\n      <th>243</th>\n      <td>경상남도</td>\n      <td>남해군</td>\n      <td>30208</td>\n      <td>8680.0</td>\n      <td>14166.0</td>\n      <td>3906.0</td>\n      <td>남해</td>\n      <td>28.734110</td>\n      <td>46.894862</td>\n      <td>12.930350</td>\n    </tr>\n    <tr>\n      <th>244</th>\n      <td>경상남도</td>\n      <td>함양군</td>\n      <td>26640</td>\n      <td>7388.0</td>\n      <td>13008.0</td>\n      <td>3203.0</td>\n      <td>함양</td>\n      <td>27.732733</td>\n      <td>48.828829</td>\n      <td>12.023273</td>\n    </tr>\n    <tr>\n      <th>245</th>\n      <td>경상남도</td>\n      <td>산청군</td>\n      <td>24513</td>\n      <td>6561.0</td>\n      <td>12544.0</td>\n      <td>2753.0</td>\n      <td>산청</td>\n      <td>26.765390</td>\n      <td>51.172847</td>\n      <td>11.230776</td>\n    </tr>\n    <tr>\n      <th>246</th>\n      <td>경상남도</td>\n      <td>거창군</td>\n      <td>41325</td>\n      <td>11256.0</td>\n      <td>19976.0</td>\n      <td>4923.0</td>\n      <td>거창</td>\n      <td>27.237750</td>\n      <td>48.338778</td>\n      <td>11.912886</td>\n    </tr>\n    <tr>\n      <th>247</th>\n      <td>경상남도</td>\n      <td>합천군</td>\n      <td>33021</td>\n      <td>7143.0</td>\n      <td>19699.0</td>\n      <td>3077.0</td>\n      <td>합천</td>\n      <td>21.631689</td>\n      <td>59.655976</td>\n      <td>9.318313</td>\n    </tr>\n  </tbody>\n</table>\n</div>"
     },
     "execution_count": 33,
     "metadata": {},
     "output_type": "execute_result"
    }
   ],
   "source": [
    "election_result[election_result['광역시도'] == '경상남도']"
   ],
   "metadata": {
    "collapsed": false,
    "pycharm": {
     "name": "#%%\n"
    }
   }
  },
  {
   "cell_type": "code",
   "execution_count": 34,
   "outputs": [
    {
     "data": {
      "text/plain": "     광역시도        시군     pop      moon     hong      ahn      ID  rate_moon  \\\n226  경상남도    창원시의창구  164047   60757.0  56887.0  22830.0   창원 의창  37.036337   \n227  경상남도    창원시성산구  153327   63717.0  42052.0  22923.0   창원 성산  41.556282   \n228  경상남도  창원시마산합포구  119281   35592.0  54488.0  14686.0   창원 합포  29.838784   \n229  경상남도  창원시마산회원구  136757   45014.0  56340.0  17744.0   창원 회원  32.915317   \n230  경상남도    창원시진해구  114779   41249.0  40049.0  17435.0   창원 진해  35.937759   \n231  경상남도       진주시  222813   73929.0  93751.0  26687.0      진주  33.179841   \n232  경상남도       통영시   82855   25477.0  36128.0  10738.0      통영  30.748899   \n233  경상남도       고성군   34603    9848.0  16797.0   4104.0  고성(경남)  28.459960   \n234  경상남도       사천시   71555   22370.0  32475.0   8350.0      사천  31.262665   \n235  경상남도       김해시  318253  147972.0  82880.0  45126.0      김해  46.495084   \n236  경상남도       밀양시   70687   20842.0  32394.0   9073.0      밀양  29.484912   \n237  경상남도       거제시  150230   68291.0  38775.0  20359.0      거제  45.457632   \n238  경상남도       의령군   19258    5115.0  10134.0   1984.0      의령  26.560390   \n239  경상남도       함안군   43866   13597.0  19809.0   5399.0      함안  30.996672   \n240  경상남도       창녕군   42878   10310.0  24464.0   3877.0      창녕  24.044965   \n241  경상남도       양산시  199835   83412.0  58811.0  30945.0      양산  41.740436   \n242  경상남도       하동군   34324   11211.0  14864.0   4150.0      하동  32.662277   \n243  경상남도       남해군   30208    8680.0  14166.0   3906.0      남해  28.734110   \n244  경상남도       함양군   26640    7388.0  13008.0   3203.0      함양  27.732733   \n245  경상남도       산청군   24513    6561.0  12544.0   2753.0      산청  26.765390   \n246  경상남도       거창군   41325   11256.0  19976.0   4923.0      거창  27.237750   \n247  경상남도       합천군   33021    7143.0  19699.0   3077.0      합천  21.631689   \n\n     rate_hong   rate_ahn  \n226  34.677257  13.916743  \n227  27.426350  14.950400  \n228  45.680368  12.312103  \n229  41.197160  12.974839  \n230  34.892271  15.190061  \n231  42.076091  11.977308  \n232  43.603886  12.959990  \n233  48.542034  11.860243  \n234  45.384669  11.669345  \n235  26.042174  14.179285  \n236  45.827380  12.835458  \n237  25.810424  13.551887  \n238  52.622287  10.302212  \n239  45.157981  12.307938  \n240  57.054900   9.041933  \n241  29.429780  15.485275  \n242  43.304976  12.090665  \n243  46.894862  12.930350  \n244  48.828829  12.023273  \n245  51.172847  11.230776  \n246  48.338778  11.912886  \n247  59.655976   9.318313  ",
      "text/html": "<div>\n<style scoped>\n    .dataframe tbody tr th:only-of-type {\n        vertical-align: middle;\n    }\n\n    .dataframe tbody tr th {\n        vertical-align: top;\n    }\n\n    .dataframe thead th {\n        text-align: right;\n    }\n</style>\n<table border=\"1\" class=\"dataframe\">\n  <thead>\n    <tr style=\"text-align: right;\">\n      <th></th>\n      <th>광역시도</th>\n      <th>시군</th>\n      <th>pop</th>\n      <th>moon</th>\n      <th>hong</th>\n      <th>ahn</th>\n      <th>ID</th>\n      <th>rate_moon</th>\n      <th>rate_hong</th>\n      <th>rate_ahn</th>\n    </tr>\n  </thead>\n  <tbody>\n    <tr>\n      <th>226</th>\n      <td>경상남도</td>\n      <td>창원시의창구</td>\n      <td>164047</td>\n      <td>60757.0</td>\n      <td>56887.0</td>\n      <td>22830.0</td>\n      <td>창원 의창</td>\n      <td>37.036337</td>\n      <td>34.677257</td>\n      <td>13.916743</td>\n    </tr>\n    <tr>\n      <th>227</th>\n      <td>경상남도</td>\n      <td>창원시성산구</td>\n      <td>153327</td>\n      <td>63717.0</td>\n      <td>42052.0</td>\n      <td>22923.0</td>\n      <td>창원 성산</td>\n      <td>41.556282</td>\n      <td>27.426350</td>\n      <td>14.950400</td>\n    </tr>\n    <tr>\n      <th>228</th>\n      <td>경상남도</td>\n      <td>창원시마산합포구</td>\n      <td>119281</td>\n      <td>35592.0</td>\n      <td>54488.0</td>\n      <td>14686.0</td>\n      <td>창원 합포</td>\n      <td>29.838784</td>\n      <td>45.680368</td>\n      <td>12.312103</td>\n    </tr>\n    <tr>\n      <th>229</th>\n      <td>경상남도</td>\n      <td>창원시마산회원구</td>\n      <td>136757</td>\n      <td>45014.0</td>\n      <td>56340.0</td>\n      <td>17744.0</td>\n      <td>창원 회원</td>\n      <td>32.915317</td>\n      <td>41.197160</td>\n      <td>12.974839</td>\n    </tr>\n    <tr>\n      <th>230</th>\n      <td>경상남도</td>\n      <td>창원시진해구</td>\n      <td>114779</td>\n      <td>41249.0</td>\n      <td>40049.0</td>\n      <td>17435.0</td>\n      <td>창원 진해</td>\n      <td>35.937759</td>\n      <td>34.892271</td>\n      <td>15.190061</td>\n    </tr>\n    <tr>\n      <th>231</th>\n      <td>경상남도</td>\n      <td>진주시</td>\n      <td>222813</td>\n      <td>73929.0</td>\n      <td>93751.0</td>\n      <td>26687.0</td>\n      <td>진주</td>\n      <td>33.179841</td>\n      <td>42.076091</td>\n      <td>11.977308</td>\n    </tr>\n    <tr>\n      <th>232</th>\n      <td>경상남도</td>\n      <td>통영시</td>\n      <td>82855</td>\n      <td>25477.0</td>\n      <td>36128.0</td>\n      <td>10738.0</td>\n      <td>통영</td>\n      <td>30.748899</td>\n      <td>43.603886</td>\n      <td>12.959990</td>\n    </tr>\n    <tr>\n      <th>233</th>\n      <td>경상남도</td>\n      <td>고성군</td>\n      <td>34603</td>\n      <td>9848.0</td>\n      <td>16797.0</td>\n      <td>4104.0</td>\n      <td>고성(경남)</td>\n      <td>28.459960</td>\n      <td>48.542034</td>\n      <td>11.860243</td>\n    </tr>\n    <tr>\n      <th>234</th>\n      <td>경상남도</td>\n      <td>사천시</td>\n      <td>71555</td>\n      <td>22370.0</td>\n      <td>32475.0</td>\n      <td>8350.0</td>\n      <td>사천</td>\n      <td>31.262665</td>\n      <td>45.384669</td>\n      <td>11.669345</td>\n    </tr>\n    <tr>\n      <th>235</th>\n      <td>경상남도</td>\n      <td>김해시</td>\n      <td>318253</td>\n      <td>147972.0</td>\n      <td>82880.0</td>\n      <td>45126.0</td>\n      <td>김해</td>\n      <td>46.495084</td>\n      <td>26.042174</td>\n      <td>14.179285</td>\n    </tr>\n    <tr>\n      <th>236</th>\n      <td>경상남도</td>\n      <td>밀양시</td>\n      <td>70687</td>\n      <td>20842.0</td>\n      <td>32394.0</td>\n      <td>9073.0</td>\n      <td>밀양</td>\n      <td>29.484912</td>\n      <td>45.827380</td>\n      <td>12.835458</td>\n    </tr>\n    <tr>\n      <th>237</th>\n      <td>경상남도</td>\n      <td>거제시</td>\n      <td>150230</td>\n      <td>68291.0</td>\n      <td>38775.0</td>\n      <td>20359.0</td>\n      <td>거제</td>\n      <td>45.457632</td>\n      <td>25.810424</td>\n      <td>13.551887</td>\n    </tr>\n    <tr>\n      <th>238</th>\n      <td>경상남도</td>\n      <td>의령군</td>\n      <td>19258</td>\n      <td>5115.0</td>\n      <td>10134.0</td>\n      <td>1984.0</td>\n      <td>의령</td>\n      <td>26.560390</td>\n      <td>52.622287</td>\n      <td>10.302212</td>\n    </tr>\n    <tr>\n      <th>239</th>\n      <td>경상남도</td>\n      <td>함안군</td>\n      <td>43866</td>\n      <td>13597.0</td>\n      <td>19809.0</td>\n      <td>5399.0</td>\n      <td>함안</td>\n      <td>30.996672</td>\n      <td>45.157981</td>\n      <td>12.307938</td>\n    </tr>\n    <tr>\n      <th>240</th>\n      <td>경상남도</td>\n      <td>창녕군</td>\n      <td>42878</td>\n      <td>10310.0</td>\n      <td>24464.0</td>\n      <td>3877.0</td>\n      <td>창녕</td>\n      <td>24.044965</td>\n      <td>57.054900</td>\n      <td>9.041933</td>\n    </tr>\n    <tr>\n      <th>241</th>\n      <td>경상남도</td>\n      <td>양산시</td>\n      <td>199835</td>\n      <td>83412.0</td>\n      <td>58811.0</td>\n      <td>30945.0</td>\n      <td>양산</td>\n      <td>41.740436</td>\n      <td>29.429780</td>\n      <td>15.485275</td>\n    </tr>\n    <tr>\n      <th>242</th>\n      <td>경상남도</td>\n      <td>하동군</td>\n      <td>34324</td>\n      <td>11211.0</td>\n      <td>14864.0</td>\n      <td>4150.0</td>\n      <td>하동</td>\n      <td>32.662277</td>\n      <td>43.304976</td>\n      <td>12.090665</td>\n    </tr>\n    <tr>\n      <th>243</th>\n      <td>경상남도</td>\n      <td>남해군</td>\n      <td>30208</td>\n      <td>8680.0</td>\n      <td>14166.0</td>\n      <td>3906.0</td>\n      <td>남해</td>\n      <td>28.734110</td>\n      <td>46.894862</td>\n      <td>12.930350</td>\n    </tr>\n    <tr>\n      <th>244</th>\n      <td>경상남도</td>\n      <td>함양군</td>\n      <td>26640</td>\n      <td>7388.0</td>\n      <td>13008.0</td>\n      <td>3203.0</td>\n      <td>함양</td>\n      <td>27.732733</td>\n      <td>48.828829</td>\n      <td>12.023273</td>\n    </tr>\n    <tr>\n      <th>245</th>\n      <td>경상남도</td>\n      <td>산청군</td>\n      <td>24513</td>\n      <td>6561.0</td>\n      <td>12544.0</td>\n      <td>2753.0</td>\n      <td>산청</td>\n      <td>26.765390</td>\n      <td>51.172847</td>\n      <td>11.230776</td>\n    </tr>\n    <tr>\n      <th>246</th>\n      <td>경상남도</td>\n      <td>거창군</td>\n      <td>41325</td>\n      <td>11256.0</td>\n      <td>19976.0</td>\n      <td>4923.0</td>\n      <td>거창</td>\n      <td>27.237750</td>\n      <td>48.338778</td>\n      <td>11.912886</td>\n    </tr>\n    <tr>\n      <th>247</th>\n      <td>경상남도</td>\n      <td>합천군</td>\n      <td>33021</td>\n      <td>7143.0</td>\n      <td>19699.0</td>\n      <td>3077.0</td>\n      <td>합천</td>\n      <td>21.631689</td>\n      <td>59.655976</td>\n      <td>9.318313</td>\n    </tr>\n  </tbody>\n</table>\n</div>"
     },
     "execution_count": 34,
     "metadata": {},
     "output_type": "execute_result"
    }
   ],
   "source": [
    "election_result.loc[228, 'ID'] = '창원 합포'\n",
    "election_result.loc[229, 'ID'] = '창원 회원'\n",
    "election_result[election_result['광역시도'] == '경상남도']"
   ],
   "metadata": {
    "collapsed": false,
    "pycharm": {
     "name": "#%%\n"
    }
   }
  },
  {
   "cell_type": "code",
   "execution_count": 35,
   "outputs": [
    {
     "data": {
      "text/plain": "{'부천 소사', '부천 오정', '부천 원미'}"
     },
     "execution_count": 35,
     "metadata": {},
     "output_type": "execute_result"
    }
   ],
   "source": [
    "set(draw_korea['ID'].unique()) - set(election_result['ID'].unique())"
   ],
   "metadata": {
    "collapsed": false,
    "pycharm": {
     "name": "#%%\n"
    }
   }
  },
  {
   "cell_type": "code",
   "execution_count": 36,
   "outputs": [
    {
     "data": {
      "text/plain": "{'부천'}"
     },
     "execution_count": 36,
     "metadata": {},
     "output_type": "execute_result"
    }
   ],
   "source": [
    "set(election_result['ID'].unique()) - set(draw_korea['ID'].unique())"
   ],
   "metadata": {
    "collapsed": false,
    "pycharm": {
     "name": "#%%\n"
    }
   }
  },
  {
   "cell_type": "code",
   "execution_count": 37,
   "outputs": [
    {
     "data": {
      "text/plain": "   광역시도   시군     pop      moon      hong       ahn  ID  rate_moon  rate_hong  \\\n85  경기도  부천시  543777  239697.0  100544.0  128297.0  부천  44.080018  18.489932   \n\n     rate_ahn  \n85  23.593679  ",
      "text/html": "<div>\n<style scoped>\n    .dataframe tbody tr th:only-of-type {\n        vertical-align: middle;\n    }\n\n    .dataframe tbody tr th {\n        vertical-align: top;\n    }\n\n    .dataframe thead th {\n        text-align: right;\n    }\n</style>\n<table border=\"1\" class=\"dataframe\">\n  <thead>\n    <tr style=\"text-align: right;\">\n      <th></th>\n      <th>광역시도</th>\n      <th>시군</th>\n      <th>pop</th>\n      <th>moon</th>\n      <th>hong</th>\n      <th>ahn</th>\n      <th>ID</th>\n      <th>rate_moon</th>\n      <th>rate_hong</th>\n      <th>rate_ahn</th>\n    </tr>\n  </thead>\n  <tbody>\n    <tr>\n      <th>85</th>\n      <td>경기도</td>\n      <td>부천시</td>\n      <td>543777</td>\n      <td>239697.0</td>\n      <td>100544.0</td>\n      <td>128297.0</td>\n      <td>부천</td>\n      <td>44.080018</td>\n      <td>18.489932</td>\n      <td>23.593679</td>\n    </tr>\n  </tbody>\n</table>\n</div>"
     },
     "execution_count": 37,
     "metadata": {},
     "output_type": "execute_result"
    }
   ],
   "source": [
    "election_result[election_result['시군'] == '부천시']"
   ],
   "metadata": {
    "collapsed": false,
    "pycharm": {
     "name": "#%%\n"
    }
   }
  },
  {
   "cell_type": "code",
   "execution_count": 38,
   "outputs": [
    {
     "data": {
      "text/plain": "        광역시도    시군     pop      moon     hong      ahn   ID  rate_moon  \\\n245     경상남도   산청군   24513    6561.0  12544.0   2753.0   산청  26.765390   \n246     경상남도   거창군   41325   11256.0  19976.0   4923.0   거창  27.237750   \n247     경상남도   합천군   33021    7143.0  19699.0   3077.0   합천  21.631689   \n248  제주특별자치도   제주시  273163  125717.0  48027.0  55971.0   제주  46.022704   \n249  제주특별자치도  서귀포시  101296   43776.0  20036.0  21890.0  서귀포  43.215922   \n\n     rate_hong   rate_ahn  \n245  51.172847  11.230776  \n246  48.338778  11.912886  \n247  59.655976   9.318313  \n248  17.581810  20.489964  \n249  19.779656  21.609935  ",
      "text/html": "<div>\n<style scoped>\n    .dataframe tbody tr th:only-of-type {\n        vertical-align: middle;\n    }\n\n    .dataframe tbody tr th {\n        vertical-align: top;\n    }\n\n    .dataframe thead th {\n        text-align: right;\n    }\n</style>\n<table border=\"1\" class=\"dataframe\">\n  <thead>\n    <tr style=\"text-align: right;\">\n      <th></th>\n      <th>광역시도</th>\n      <th>시군</th>\n      <th>pop</th>\n      <th>moon</th>\n      <th>hong</th>\n      <th>ahn</th>\n      <th>ID</th>\n      <th>rate_moon</th>\n      <th>rate_hong</th>\n      <th>rate_ahn</th>\n    </tr>\n  </thead>\n  <tbody>\n    <tr>\n      <th>245</th>\n      <td>경상남도</td>\n      <td>산청군</td>\n      <td>24513</td>\n      <td>6561.0</td>\n      <td>12544.0</td>\n      <td>2753.0</td>\n      <td>산청</td>\n      <td>26.765390</td>\n      <td>51.172847</td>\n      <td>11.230776</td>\n    </tr>\n    <tr>\n      <th>246</th>\n      <td>경상남도</td>\n      <td>거창군</td>\n      <td>41325</td>\n      <td>11256.0</td>\n      <td>19976.0</td>\n      <td>4923.0</td>\n      <td>거창</td>\n      <td>27.237750</td>\n      <td>48.338778</td>\n      <td>11.912886</td>\n    </tr>\n    <tr>\n      <th>247</th>\n      <td>경상남도</td>\n      <td>합천군</td>\n      <td>33021</td>\n      <td>7143.0</td>\n      <td>19699.0</td>\n      <td>3077.0</td>\n      <td>합천</td>\n      <td>21.631689</td>\n      <td>59.655976</td>\n      <td>9.318313</td>\n    </tr>\n    <tr>\n      <th>248</th>\n      <td>제주특별자치도</td>\n      <td>제주시</td>\n      <td>273163</td>\n      <td>125717.0</td>\n      <td>48027.0</td>\n      <td>55971.0</td>\n      <td>제주</td>\n      <td>46.022704</td>\n      <td>17.581810</td>\n      <td>20.489964</td>\n    </tr>\n    <tr>\n      <th>249</th>\n      <td>제주특별자치도</td>\n      <td>서귀포시</td>\n      <td>101296</td>\n      <td>43776.0</td>\n      <td>20036.0</td>\n      <td>21890.0</td>\n      <td>서귀포</td>\n      <td>43.215922</td>\n      <td>19.779656</td>\n      <td>21.609935</td>\n    </tr>\n  </tbody>\n</table>\n</div>"
     },
     "execution_count": 38,
     "metadata": {},
     "output_type": "execute_result"
    }
   ],
   "source": [
    "election_result.tail()"
   ],
   "metadata": {
    "collapsed": false,
    "pycharm": {
     "name": "#%%\n"
    }
   }
  },
  {
   "cell_type": "code",
   "execution_count": 39,
   "outputs": [],
   "source": [
    "ahn_tmp = election_result.loc[85, 'ahn']/3\n",
    "hong_tmp = election_result.loc[85, 'hong']/3\n",
    "moon_tmp = election_result.loc[85, 'moon']/3\n",
    "pop_tmp = election_result.loc[85, 'pop']/3\n",
    "\n",
    "rate_moon_tmp = election_result.loc[85, 'rate_moon']\n",
    "rate_hong_tmp = election_result.loc[85, 'rate_hong']\n",
    "rate_ahn_tmp = election_result.loc[85, 'rate_ahn']\n",
    "\n",
    "election_result.loc[250] = [ahn_tmp, hong_tmp, moon_tmp, pop_tmp,\n",
    "                           '경기도', '부천시', '부천 소사',\n",
    "                           rate_moon_tmp, rate_hong_tmp, rate_ahn_tmp]\n",
    "election_result.loc[251] = [ahn_tmp, hong_tmp, moon_tmp, pop_tmp,\n",
    "                           '경기도', '부천시', '부천 오정',\n",
    "                           rate_moon_tmp, rate_hong_tmp, rate_ahn_tmp]\n",
    "election_result.loc[252] = [ahn_tmp, hong_tmp, moon_tmp, pop_tmp,\n",
    "                           '경기도', '부천시', '부천 원미',\n",
    "                           rate_moon_tmp, rate_hong_tmp, rate_ahn_tmp]"
   ],
   "metadata": {
    "collapsed": false,
    "pycharm": {
     "name": "#%%\n"
    }
   }
  },
  {
   "cell_type": "code",
   "execution_count": 40,
   "outputs": [
    {
     "data": {
      "text/plain": "   광역시도   시군       pop      moon      hong       ahn  ID  rate_moon  \\\n85  경기도  부천시  543777.0  239697.0  100544.0  128297.0  부천  44.080018   \n\n    rate_hong   rate_ahn  \n85  18.489932  23.593679  ",
      "text/html": "<div>\n<style scoped>\n    .dataframe tbody tr th:only-of-type {\n        vertical-align: middle;\n    }\n\n    .dataframe tbody tr th {\n        vertical-align: top;\n    }\n\n    .dataframe thead th {\n        text-align: right;\n    }\n</style>\n<table border=\"1\" class=\"dataframe\">\n  <thead>\n    <tr style=\"text-align: right;\">\n      <th></th>\n      <th>광역시도</th>\n      <th>시군</th>\n      <th>pop</th>\n      <th>moon</th>\n      <th>hong</th>\n      <th>ahn</th>\n      <th>ID</th>\n      <th>rate_moon</th>\n      <th>rate_hong</th>\n      <th>rate_ahn</th>\n    </tr>\n  </thead>\n  <tbody>\n    <tr>\n      <th>85</th>\n      <td>경기도</td>\n      <td>부천시</td>\n      <td>543777.0</td>\n      <td>239697.0</td>\n      <td>100544.0</td>\n      <td>128297.0</td>\n      <td>부천</td>\n      <td>44.080018</td>\n      <td>18.489932</td>\n      <td>23.593679</td>\n    </tr>\n  </tbody>\n</table>\n</div>"
     },
     "execution_count": 40,
     "metadata": {},
     "output_type": "execute_result"
    }
   ],
   "source": [
    "election_result[election_result['시군'] == '부천시']"
   ],
   "metadata": {
    "collapsed": false,
    "pycharm": {
     "name": "#%%\n"
    }
   }
  },
  {
   "cell_type": "code",
   "execution_count": 41,
   "outputs": [
    {
     "data": {
      "text/plain": "Empty DataFrame\nColumns: [광역시도, 시군, pop, moon, hong, ahn, ID, rate_moon, rate_hong, rate_ahn]\nIndex: []",
      "text/html": "<div>\n<style scoped>\n    .dataframe tbody tr th:only-of-type {\n        vertical-align: middle;\n    }\n\n    .dataframe tbody tr th {\n        vertical-align: top;\n    }\n\n    .dataframe thead th {\n        text-align: right;\n    }\n</style>\n<table border=\"1\" class=\"dataframe\">\n  <thead>\n    <tr style=\"text-align: right;\">\n      <th></th>\n      <th>광역시도</th>\n      <th>시군</th>\n      <th>pop</th>\n      <th>moon</th>\n      <th>hong</th>\n      <th>ahn</th>\n      <th>ID</th>\n      <th>rate_moon</th>\n      <th>rate_hong</th>\n      <th>rate_ahn</th>\n    </tr>\n  </thead>\n  <tbody>\n  </tbody>\n</table>\n</div>"
     },
     "execution_count": 41,
     "metadata": {},
     "output_type": "execute_result"
    }
   ],
   "source": [
    "election_result.drop([85], inplace=True)\n",
    "election_result[election_result['시군'] == '부천시']"
   ],
   "metadata": {
    "collapsed": false,
    "pycharm": {
     "name": "#%%\n"
    }
   }
  },
  {
   "cell_type": "code",
   "execution_count": 42,
   "outputs": [
    {
     "data": {
      "text/plain": "set()"
     },
     "execution_count": 42,
     "metadata": {},
     "output_type": "execute_result"
    }
   ],
   "source": [
    "set(draw_korea['ID'].unique()) - set(election_result['ID'].unique())"
   ],
   "metadata": {
    "collapsed": false,
    "pycharm": {
     "name": "#%%\n"
    }
   }
  },
  {
   "cell_type": "code",
   "execution_count": 43,
   "outputs": [
    {
     "data": {
      "text/plain": "set()"
     },
     "execution_count": 43,
     "metadata": {},
     "output_type": "execute_result"
    }
   ],
   "source": [
    "set(election_result['ID'].unique()) - set(draw_korea['ID'].unique())"
   ],
   "metadata": {
    "collapsed": false,
    "pycharm": {
     "name": "#%%\n"
    }
   }
  },
  {
   "cell_type": "code",
   "execution_count": 44,
   "outputs": [
    {
     "data": {
      "text/plain": "    광역시도   시군       pop      moon     hong      ahn     ID  rate_moon  \\\n0  서울특별시  종로구  102566.0   42512.0  22325.0  22313.0  서울 종로  41.448433   \n1  서울특별시   중구   82852.0   34062.0  17901.0  19372.0  서울 중구  41.111862   \n2  서울특별시  용산구  148157.0   58081.0  35230.0  32109.0  서울 용산  39.202333   \n3  서울특별시  성동구  203175.0   86686.0  40566.0  45674.0  서울 성동  42.665682   \n4  서울특별시  광진구  240030.0  105512.0  46368.0  52824.0  서울 광진  43.957839   \n\n   rate_hong   rate_ahn  y  x  \n0  21.766472  21.754773  4  6  \n1  21.605996  23.381451  5  6  \n2  23.778829  21.672280  6  6  \n3  19.966039  22.480128  5  7  \n4  19.317585  22.007249  6  7  ",
      "text/html": "<div>\n<style scoped>\n    .dataframe tbody tr th:only-of-type {\n        vertical-align: middle;\n    }\n\n    .dataframe tbody tr th {\n        vertical-align: top;\n    }\n\n    .dataframe thead th {\n        text-align: right;\n    }\n</style>\n<table border=\"1\" class=\"dataframe\">\n  <thead>\n    <tr style=\"text-align: right;\">\n      <th></th>\n      <th>광역시도</th>\n      <th>시군</th>\n      <th>pop</th>\n      <th>moon</th>\n      <th>hong</th>\n      <th>ahn</th>\n      <th>ID</th>\n      <th>rate_moon</th>\n      <th>rate_hong</th>\n      <th>rate_ahn</th>\n      <th>y</th>\n      <th>x</th>\n    </tr>\n  </thead>\n  <tbody>\n    <tr>\n      <th>0</th>\n      <td>서울특별시</td>\n      <td>종로구</td>\n      <td>102566.0</td>\n      <td>42512.0</td>\n      <td>22325.0</td>\n      <td>22313.0</td>\n      <td>서울 종로</td>\n      <td>41.448433</td>\n      <td>21.766472</td>\n      <td>21.754773</td>\n      <td>4</td>\n      <td>6</td>\n    </tr>\n    <tr>\n      <th>1</th>\n      <td>서울특별시</td>\n      <td>중구</td>\n      <td>82852.0</td>\n      <td>34062.0</td>\n      <td>17901.0</td>\n      <td>19372.0</td>\n      <td>서울 중구</td>\n      <td>41.111862</td>\n      <td>21.605996</td>\n      <td>23.381451</td>\n      <td>5</td>\n      <td>6</td>\n    </tr>\n    <tr>\n      <th>2</th>\n      <td>서울특별시</td>\n      <td>용산구</td>\n      <td>148157.0</td>\n      <td>58081.0</td>\n      <td>35230.0</td>\n      <td>32109.0</td>\n      <td>서울 용산</td>\n      <td>39.202333</td>\n      <td>23.778829</td>\n      <td>21.672280</td>\n      <td>6</td>\n      <td>6</td>\n    </tr>\n    <tr>\n      <th>3</th>\n      <td>서울특별시</td>\n      <td>성동구</td>\n      <td>203175.0</td>\n      <td>86686.0</td>\n      <td>40566.0</td>\n      <td>45674.0</td>\n      <td>서울 성동</td>\n      <td>42.665682</td>\n      <td>19.966039</td>\n      <td>22.480128</td>\n      <td>5</td>\n      <td>7</td>\n    </tr>\n    <tr>\n      <th>4</th>\n      <td>서울특별시</td>\n      <td>광진구</td>\n      <td>240030.0</td>\n      <td>105512.0</td>\n      <td>46368.0</td>\n      <td>52824.0</td>\n      <td>서울 광진</td>\n      <td>43.957839</td>\n      <td>19.317585</td>\n      <td>22.007249</td>\n      <td>6</td>\n      <td>7</td>\n    </tr>\n  </tbody>\n</table>\n</div>"
     },
     "execution_count": 44,
     "metadata": {},
     "output_type": "execute_result"
    }
   ],
   "source": [
    "final_elect_data = pd.merge(election_result, draw_korea, how='left', on=['ID'])\n",
    "final_elect_data.head()"
   ],
   "metadata": {
    "collapsed": false,
    "pycharm": {
     "name": "#%%\n"
    }
   }
  },
  {
   "cell_type": "code",
   "execution_count": 45,
   "outputs": [
    {
     "data": {
      "text/plain": "    광역시도   시군       pop      moon     hong      ahn     ID  rate_moon  \\\n0  서울특별시  종로구  102566.0   42512.0  22325.0  22313.0  서울 종로  41.448433   \n1  서울특별시   중구   82852.0   34062.0  17901.0  19372.0  서울 중구  41.111862   \n2  서울특별시  용산구  148157.0   58081.0  35230.0  32109.0  서울 용산  39.202333   \n3  서울특별시  성동구  203175.0   86686.0  40566.0  45674.0  서울 성동  42.665682   \n4  서울특별시  광진구  240030.0  105512.0  46368.0  52824.0  서울 광진  43.957839   \n\n   rate_hong   rate_ahn  y  x  moon_vs_hong  moon_vs_ahn  ahn_vs_hong  \n0  21.766472  21.754773  4  6     19.681961    19.693661    -0.011700  \n1  21.605996  23.381451  5  6     19.505866    17.730411     1.775455  \n2  23.778829  21.672280  6  6     15.423503    17.530053    -2.106549  \n3  19.966039  22.480128  5  7     22.699643    20.185554     2.514089  \n4  19.317585  22.007249  6  7     24.640253    21.950590     2.689664  ",
      "text/html": "<div>\n<style scoped>\n    .dataframe tbody tr th:only-of-type {\n        vertical-align: middle;\n    }\n\n    .dataframe tbody tr th {\n        vertical-align: top;\n    }\n\n    .dataframe thead th {\n        text-align: right;\n    }\n</style>\n<table border=\"1\" class=\"dataframe\">\n  <thead>\n    <tr style=\"text-align: right;\">\n      <th></th>\n      <th>광역시도</th>\n      <th>시군</th>\n      <th>pop</th>\n      <th>moon</th>\n      <th>hong</th>\n      <th>ahn</th>\n      <th>ID</th>\n      <th>rate_moon</th>\n      <th>rate_hong</th>\n      <th>rate_ahn</th>\n      <th>y</th>\n      <th>x</th>\n      <th>moon_vs_hong</th>\n      <th>moon_vs_ahn</th>\n      <th>ahn_vs_hong</th>\n    </tr>\n  </thead>\n  <tbody>\n    <tr>\n      <th>0</th>\n      <td>서울특별시</td>\n      <td>종로구</td>\n      <td>102566.0</td>\n      <td>42512.0</td>\n      <td>22325.0</td>\n      <td>22313.0</td>\n      <td>서울 종로</td>\n      <td>41.448433</td>\n      <td>21.766472</td>\n      <td>21.754773</td>\n      <td>4</td>\n      <td>6</td>\n      <td>19.681961</td>\n      <td>19.693661</td>\n      <td>-0.011700</td>\n    </tr>\n    <tr>\n      <th>1</th>\n      <td>서울특별시</td>\n      <td>중구</td>\n      <td>82852.0</td>\n      <td>34062.0</td>\n      <td>17901.0</td>\n      <td>19372.0</td>\n      <td>서울 중구</td>\n      <td>41.111862</td>\n      <td>21.605996</td>\n      <td>23.381451</td>\n      <td>5</td>\n      <td>6</td>\n      <td>19.505866</td>\n      <td>17.730411</td>\n      <td>1.775455</td>\n    </tr>\n    <tr>\n      <th>2</th>\n      <td>서울특별시</td>\n      <td>용산구</td>\n      <td>148157.0</td>\n      <td>58081.0</td>\n      <td>35230.0</td>\n      <td>32109.0</td>\n      <td>서울 용산</td>\n      <td>39.202333</td>\n      <td>23.778829</td>\n      <td>21.672280</td>\n      <td>6</td>\n      <td>6</td>\n      <td>15.423503</td>\n      <td>17.530053</td>\n      <td>-2.106549</td>\n    </tr>\n    <tr>\n      <th>3</th>\n      <td>서울특별시</td>\n      <td>성동구</td>\n      <td>203175.0</td>\n      <td>86686.0</td>\n      <td>40566.0</td>\n      <td>45674.0</td>\n      <td>서울 성동</td>\n      <td>42.665682</td>\n      <td>19.966039</td>\n      <td>22.480128</td>\n      <td>5</td>\n      <td>7</td>\n      <td>22.699643</td>\n      <td>20.185554</td>\n      <td>2.514089</td>\n    </tr>\n    <tr>\n      <th>4</th>\n      <td>서울특별시</td>\n      <td>광진구</td>\n      <td>240030.0</td>\n      <td>105512.0</td>\n      <td>46368.0</td>\n      <td>52824.0</td>\n      <td>서울 광진</td>\n      <td>43.957839</td>\n      <td>19.317585</td>\n      <td>22.007249</td>\n      <td>6</td>\n      <td>7</td>\n      <td>24.640253</td>\n      <td>21.950590</td>\n      <td>2.689664</td>\n    </tr>\n  </tbody>\n</table>\n</div>"
     },
     "execution_count": 45,
     "metadata": {},
     "output_type": "execute_result"
    }
   ],
   "source": [
    "final_elect_data['moon_vs_hong'] = final_elect_data['rate_moon'] - \\\n",
    "                                                                final_elect_data['rate_hong']\n",
    "final_elect_data['moon_vs_ahn'] = final_elect_data['rate_moon'] - \\\n",
    "                                                                final_elect_data['rate_ahn']\n",
    "final_elect_data['ahn_vs_hong'] = final_elect_data['rate_ahn'] - \\\n",
    "                                                                final_elect_data['rate_hong']\n",
    "final_elect_data.head()"
   ],
   "metadata": {
    "collapsed": false,
    "pycharm": {
     "name": "#%%\n"
    }
   }
  },
  {
   "cell_type": "code",
   "execution_count": 46,
   "outputs": [
    {
     "data": {
      "text/plain": "      광역시도      시군       pop      moon    hong      ahn     ID  rate_moon  \\\n181   전라남도     순천시  181451.0  122595.0  4525.0  40429.0     순천  67.563695   \n165   전라북도  전주시덕진구  187921.0  125375.0  5183.0  40188.0  전주 덕진  66.716865   \n164   전라북도  전주시완산구  236383.0  157637.0  7003.0  50506.0  전주 완산  66.687114   \n63   광주광역시     광산구  248209.0  159119.0  3630.0  65402.0  광주 광산  64.106862   \n171   전라북도     완주군   62470.0   41057.0  2107.0  13897.0     완주  65.722747   \n174   전라북도     장수군   16079.0   10714.0   717.0   3353.0     장수  66.633497   \n183   전라남도     광양시   96384.0   63544.0  4100.0  20080.0     광양  65.927955   \n172   전라북도     진안군   18107.0   11918.0   819.0   3904.0     진안  65.819849   \n180   전라남도     여수시  185487.0  117586.0  4281.0  50228.0     여수  63.393122   \n167   전라북도     익산시  192208.0  123422.0  6470.0  45737.0     익산  64.212728   \n\n     rate_hong   rate_ahn   y  x  moon_vs_hong  moon_vs_ahn  ahn_vs_hong  \n181   2.493786  22.280946  22  4     65.069909    45.282749    19.787160  \n165   2.758074  21.385582  18  3     63.958791    45.331283    18.627508  \n164   2.962565  21.366173  19  3     63.724549    45.320941    18.403608  \n63    1.462477  26.349568  21  2     62.644384    37.757293    24.887091  \n171   3.372819  22.245878  17  4     62.349928    43.476869    18.873059  \n174   4.459233  20.853287  17  5     62.174265    45.780210    16.394054  \n183   4.253818  20.833333  21  5     61.674137    45.094622    16.579515  \n172   4.523113  21.560722  18  4     61.296736    44.259126    17.037610  \n180   2.307978  27.078987  23  4     61.085143    36.314135    24.771008  \n167   3.366145  23.795576  16  3     60.846583    40.417152    20.429431  ",
      "text/html": "<div>\n<style scoped>\n    .dataframe tbody tr th:only-of-type {\n        vertical-align: middle;\n    }\n\n    .dataframe tbody tr th {\n        vertical-align: top;\n    }\n\n    .dataframe thead th {\n        text-align: right;\n    }\n</style>\n<table border=\"1\" class=\"dataframe\">\n  <thead>\n    <tr style=\"text-align: right;\">\n      <th></th>\n      <th>광역시도</th>\n      <th>시군</th>\n      <th>pop</th>\n      <th>moon</th>\n      <th>hong</th>\n      <th>ahn</th>\n      <th>ID</th>\n      <th>rate_moon</th>\n      <th>rate_hong</th>\n      <th>rate_ahn</th>\n      <th>y</th>\n      <th>x</th>\n      <th>moon_vs_hong</th>\n      <th>moon_vs_ahn</th>\n      <th>ahn_vs_hong</th>\n    </tr>\n  </thead>\n  <tbody>\n    <tr>\n      <th>181</th>\n      <td>전라남도</td>\n      <td>순천시</td>\n      <td>181451.0</td>\n      <td>122595.0</td>\n      <td>4525.0</td>\n      <td>40429.0</td>\n      <td>순천</td>\n      <td>67.563695</td>\n      <td>2.493786</td>\n      <td>22.280946</td>\n      <td>22</td>\n      <td>4</td>\n      <td>65.069909</td>\n      <td>45.282749</td>\n      <td>19.787160</td>\n    </tr>\n    <tr>\n      <th>165</th>\n      <td>전라북도</td>\n      <td>전주시덕진구</td>\n      <td>187921.0</td>\n      <td>125375.0</td>\n      <td>5183.0</td>\n      <td>40188.0</td>\n      <td>전주 덕진</td>\n      <td>66.716865</td>\n      <td>2.758074</td>\n      <td>21.385582</td>\n      <td>18</td>\n      <td>3</td>\n      <td>63.958791</td>\n      <td>45.331283</td>\n      <td>18.627508</td>\n    </tr>\n    <tr>\n      <th>164</th>\n      <td>전라북도</td>\n      <td>전주시완산구</td>\n      <td>236383.0</td>\n      <td>157637.0</td>\n      <td>7003.0</td>\n      <td>50506.0</td>\n      <td>전주 완산</td>\n      <td>66.687114</td>\n      <td>2.962565</td>\n      <td>21.366173</td>\n      <td>19</td>\n      <td>3</td>\n      <td>63.724549</td>\n      <td>45.320941</td>\n      <td>18.403608</td>\n    </tr>\n    <tr>\n      <th>63</th>\n      <td>광주광역시</td>\n      <td>광산구</td>\n      <td>248209.0</td>\n      <td>159119.0</td>\n      <td>3630.0</td>\n      <td>65402.0</td>\n      <td>광주 광산</td>\n      <td>64.106862</td>\n      <td>1.462477</td>\n      <td>26.349568</td>\n      <td>21</td>\n      <td>2</td>\n      <td>62.644384</td>\n      <td>37.757293</td>\n      <td>24.887091</td>\n    </tr>\n    <tr>\n      <th>171</th>\n      <td>전라북도</td>\n      <td>완주군</td>\n      <td>62470.0</td>\n      <td>41057.0</td>\n      <td>2107.0</td>\n      <td>13897.0</td>\n      <td>완주</td>\n      <td>65.722747</td>\n      <td>3.372819</td>\n      <td>22.245878</td>\n      <td>17</td>\n      <td>4</td>\n      <td>62.349928</td>\n      <td>43.476869</td>\n      <td>18.873059</td>\n    </tr>\n    <tr>\n      <th>174</th>\n      <td>전라북도</td>\n      <td>장수군</td>\n      <td>16079.0</td>\n      <td>10714.0</td>\n      <td>717.0</td>\n      <td>3353.0</td>\n      <td>장수</td>\n      <td>66.633497</td>\n      <td>4.459233</td>\n      <td>20.853287</td>\n      <td>17</td>\n      <td>5</td>\n      <td>62.174265</td>\n      <td>45.780210</td>\n      <td>16.394054</td>\n    </tr>\n    <tr>\n      <th>183</th>\n      <td>전라남도</td>\n      <td>광양시</td>\n      <td>96384.0</td>\n      <td>63544.0</td>\n      <td>4100.0</td>\n      <td>20080.0</td>\n      <td>광양</td>\n      <td>65.927955</td>\n      <td>4.253818</td>\n      <td>20.833333</td>\n      <td>21</td>\n      <td>5</td>\n      <td>61.674137</td>\n      <td>45.094622</td>\n      <td>16.579515</td>\n    </tr>\n    <tr>\n      <th>172</th>\n      <td>전라북도</td>\n      <td>진안군</td>\n      <td>18107.0</td>\n      <td>11918.0</td>\n      <td>819.0</td>\n      <td>3904.0</td>\n      <td>진안</td>\n      <td>65.819849</td>\n      <td>4.523113</td>\n      <td>21.560722</td>\n      <td>18</td>\n      <td>4</td>\n      <td>61.296736</td>\n      <td>44.259126</td>\n      <td>17.037610</td>\n    </tr>\n    <tr>\n      <th>180</th>\n      <td>전라남도</td>\n      <td>여수시</td>\n      <td>185487.0</td>\n      <td>117586.0</td>\n      <td>4281.0</td>\n      <td>50228.0</td>\n      <td>여수</td>\n      <td>63.393122</td>\n      <td>2.307978</td>\n      <td>27.078987</td>\n      <td>23</td>\n      <td>4</td>\n      <td>61.085143</td>\n      <td>36.314135</td>\n      <td>24.771008</td>\n    </tr>\n    <tr>\n      <th>167</th>\n      <td>전라북도</td>\n      <td>익산시</td>\n      <td>192208.0</td>\n      <td>123422.0</td>\n      <td>6470.0</td>\n      <td>45737.0</td>\n      <td>익산</td>\n      <td>64.212728</td>\n      <td>3.366145</td>\n      <td>23.795576</td>\n      <td>16</td>\n      <td>3</td>\n      <td>60.846583</td>\n      <td>40.417152</td>\n      <td>20.429431</td>\n    </tr>\n  </tbody>\n</table>\n</div>"
     },
     "execution_count": 46,
     "metadata": {},
     "output_type": "execute_result"
    }
   ],
   "source": [
    "final_elect_data.sort_values(['moon_vs_hong'], ascending=[False]).head(10)"
   ],
   "metadata": {
    "collapsed": false,
    "pycharm": {
     "name": "#%%\n"
    }
   }
  },
  {
   "cell_type": "code",
   "execution_count": 47,
   "outputs": [
    {
     "data": {
      "text/plain": "     광역시도   시군      pop     moon     hong     ahn  ID  rate_moon  rate_hong  \\\n218  경상북도  군위군  17627.0   2251.0  11651.0  1939.0  군위  12.770182  66.097464   \n219  경상북도  의성군  37855.0   5365.0  23790.0  4767.0  의성  14.172500  62.845067   \n222  경상북도  영덕군  26125.0   3786.0  16314.0  3231.0  영덕  14.491866  62.445933   \n215  경상북도  고령군  22396.0   3754.0  13248.0  2600.0  고령  16.761922  59.153420   \n212  경상북도  예천군  32124.0   5261.0  18863.0  4427.0  예천  16.377163  58.719338   \n214  경상북도  청도군  30398.0   5323.0  17678.0  3654.0  청도  17.511020  58.155142   \n220  경상북도  청송군  18418.0   3218.0  10669.0  2387.0  청송  17.472038  57.927028   \n211  경상북도  문경시  49113.0   8616.0  27832.0  6905.0  문경  17.543217  56.669314   \n210  경상북도  상주시  67717.0  12356.0  38171.0  9392.0  상주  18.246526  56.368416   \n246  경상남도  합천군  33021.0   7143.0  19699.0  3077.0  합천  21.631689  59.655976   \n\n      rate_ahn   y   x  moon_vs_hong  moon_vs_ahn  ahn_vs_hong  \n218  11.000170  11  10    -53.327282     1.770012   -55.097294  \n219  12.592788  11  11    -48.672566     1.579712   -50.252278  \n222  12.367464   7  11    -47.954067     2.124402   -50.078469  \n215  11.609216  13   9    -42.391498     5.152706   -47.544204  \n212  13.780974  10   8    -42.342174     2.596190   -44.938364  \n214  12.020528  13  10    -40.644121     5.490493   -46.134614  \n220  12.960148  10  11    -40.454990     4.511891   -44.966880  \n211  14.059414   8  10    -39.126097     3.483803   -42.609900  \n210  13.869486  11   8    -38.121890     4.377040   -42.498929  \n246   9.318313  16   7    -38.024288    12.313376   -50.337664  ",
      "text/html": "<div>\n<style scoped>\n    .dataframe tbody tr th:only-of-type {\n        vertical-align: middle;\n    }\n\n    .dataframe tbody tr th {\n        vertical-align: top;\n    }\n\n    .dataframe thead th {\n        text-align: right;\n    }\n</style>\n<table border=\"1\" class=\"dataframe\">\n  <thead>\n    <tr style=\"text-align: right;\">\n      <th></th>\n      <th>광역시도</th>\n      <th>시군</th>\n      <th>pop</th>\n      <th>moon</th>\n      <th>hong</th>\n      <th>ahn</th>\n      <th>ID</th>\n      <th>rate_moon</th>\n      <th>rate_hong</th>\n      <th>rate_ahn</th>\n      <th>y</th>\n      <th>x</th>\n      <th>moon_vs_hong</th>\n      <th>moon_vs_ahn</th>\n      <th>ahn_vs_hong</th>\n    </tr>\n  </thead>\n  <tbody>\n    <tr>\n      <th>218</th>\n      <td>경상북도</td>\n      <td>군위군</td>\n      <td>17627.0</td>\n      <td>2251.0</td>\n      <td>11651.0</td>\n      <td>1939.0</td>\n      <td>군위</td>\n      <td>12.770182</td>\n      <td>66.097464</td>\n      <td>11.000170</td>\n      <td>11</td>\n      <td>10</td>\n      <td>-53.327282</td>\n      <td>1.770012</td>\n      <td>-55.097294</td>\n    </tr>\n    <tr>\n      <th>219</th>\n      <td>경상북도</td>\n      <td>의성군</td>\n      <td>37855.0</td>\n      <td>5365.0</td>\n      <td>23790.0</td>\n      <td>4767.0</td>\n      <td>의성</td>\n      <td>14.172500</td>\n      <td>62.845067</td>\n      <td>12.592788</td>\n      <td>11</td>\n      <td>11</td>\n      <td>-48.672566</td>\n      <td>1.579712</td>\n      <td>-50.252278</td>\n    </tr>\n    <tr>\n      <th>222</th>\n      <td>경상북도</td>\n      <td>영덕군</td>\n      <td>26125.0</td>\n      <td>3786.0</td>\n      <td>16314.0</td>\n      <td>3231.0</td>\n      <td>영덕</td>\n      <td>14.491866</td>\n      <td>62.445933</td>\n      <td>12.367464</td>\n      <td>7</td>\n      <td>11</td>\n      <td>-47.954067</td>\n      <td>2.124402</td>\n      <td>-50.078469</td>\n    </tr>\n    <tr>\n      <th>215</th>\n      <td>경상북도</td>\n      <td>고령군</td>\n      <td>22396.0</td>\n      <td>3754.0</td>\n      <td>13248.0</td>\n      <td>2600.0</td>\n      <td>고령</td>\n      <td>16.761922</td>\n      <td>59.153420</td>\n      <td>11.609216</td>\n      <td>13</td>\n      <td>9</td>\n      <td>-42.391498</td>\n      <td>5.152706</td>\n      <td>-47.544204</td>\n    </tr>\n    <tr>\n      <th>212</th>\n      <td>경상북도</td>\n      <td>예천군</td>\n      <td>32124.0</td>\n      <td>5261.0</td>\n      <td>18863.0</td>\n      <td>4427.0</td>\n      <td>예천</td>\n      <td>16.377163</td>\n      <td>58.719338</td>\n      <td>13.780974</td>\n      <td>10</td>\n      <td>8</td>\n      <td>-42.342174</td>\n      <td>2.596190</td>\n      <td>-44.938364</td>\n    </tr>\n    <tr>\n      <th>214</th>\n      <td>경상북도</td>\n      <td>청도군</td>\n      <td>30398.0</td>\n      <td>5323.0</td>\n      <td>17678.0</td>\n      <td>3654.0</td>\n      <td>청도</td>\n      <td>17.511020</td>\n      <td>58.155142</td>\n      <td>12.020528</td>\n      <td>13</td>\n      <td>10</td>\n      <td>-40.644121</td>\n      <td>5.490493</td>\n      <td>-46.134614</td>\n    </tr>\n    <tr>\n      <th>220</th>\n      <td>경상북도</td>\n      <td>청송군</td>\n      <td>18418.0</td>\n      <td>3218.0</td>\n      <td>10669.0</td>\n      <td>2387.0</td>\n      <td>청송</td>\n      <td>17.472038</td>\n      <td>57.927028</td>\n      <td>12.960148</td>\n      <td>10</td>\n      <td>11</td>\n      <td>-40.454990</td>\n      <td>4.511891</td>\n      <td>-44.966880</td>\n    </tr>\n    <tr>\n      <th>211</th>\n      <td>경상북도</td>\n      <td>문경시</td>\n      <td>49113.0</td>\n      <td>8616.0</td>\n      <td>27832.0</td>\n      <td>6905.0</td>\n      <td>문경</td>\n      <td>17.543217</td>\n      <td>56.669314</td>\n      <td>14.059414</td>\n      <td>8</td>\n      <td>10</td>\n      <td>-39.126097</td>\n      <td>3.483803</td>\n      <td>-42.609900</td>\n    </tr>\n    <tr>\n      <th>210</th>\n      <td>경상북도</td>\n      <td>상주시</td>\n      <td>67717.0</td>\n      <td>12356.0</td>\n      <td>38171.0</td>\n      <td>9392.0</td>\n      <td>상주</td>\n      <td>18.246526</td>\n      <td>56.368416</td>\n      <td>13.869486</td>\n      <td>11</td>\n      <td>8</td>\n      <td>-38.121890</td>\n      <td>4.377040</td>\n      <td>-42.498929</td>\n    </tr>\n    <tr>\n      <th>246</th>\n      <td>경상남도</td>\n      <td>합천군</td>\n      <td>33021.0</td>\n      <td>7143.0</td>\n      <td>19699.0</td>\n      <td>3077.0</td>\n      <td>합천</td>\n      <td>21.631689</td>\n      <td>59.655976</td>\n      <td>9.318313</td>\n      <td>16</td>\n      <td>7</td>\n      <td>-38.024288</td>\n      <td>12.313376</td>\n      <td>-50.337664</td>\n    </tr>\n  </tbody>\n</table>\n</div>"
     },
     "execution_count": 47,
     "metadata": {},
     "output_type": "execute_result"
    }
   ],
   "source": [
    "final_elect_data.sort_values(['moon_vs_hong'], ascending=[True]).head(10)"
   ],
   "metadata": {
    "collapsed": false,
    "pycharm": {
     "name": "#%%\n"
    }
   }
  },
  {
   "cell_type": "code",
   "execution_count": 48,
   "outputs": [],
   "source": [
    "BORDER_LINES = [\n",
    "    [(5, 1), (5,2), (7,2), (7,3), (11,3), (11,0)], # 인천\n",
    "    [(5,4), (5,5), (2,5), (2,7), (4,7), (4,9), (7,9),\n",
    "     (7,7), (9,7), (9,5), (10,5), (10,4), (5,4)], # 서울\n",
    "    [(1,7), (1,8), (3,8), (3,10), (10,10), (10,7),\n",
    "     (12,7), (12,6), (11,6), (11,5), (12, 5), (12,4),\n",
    "     (11,4), (11,3)], # 경기도\n",
    "    [(8,10), (8,11), (6,11), (6,12)], # 강원도\n",
    "    [(12,5), (13,5), (13,4), (14,4), (14,5), (15,5),\n",
    "     (15,4), (16,4), (16,2)], # 충청북도\n",
    "    [(16,4), (17,4), (17,5), (16,5), (16,6), (19,6),\n",
    "     (19,5), (20,5), (20,4), (21,4), (21,3), (19,3), (19,1)], # 전라북도\n",
    "    [(13,5), (13,6), (16,6)], # 대전시\n",
    "    [(13,5), (14,5)], #세종시\n",
    "    [(21,2), (21,3), (22,3), (22,4), (24,4), (24,2), (21,2)], #광주\n",
    "    [(20,5), (21,5), (21,6), (23,6)], #전라남도\n",
    "    [(10,8), (12,8), (12,9), (14,9), (14,8), (16,8), (16,6)], #충청북도\n",
    "    [(14,9), (14,11), (14,12), (13,12), (13,13)], #경상북도\n",
    "    [(15,8), (17,8), (17,10), (16,10), (16,11), (14,11)], #대구\n",
    "    [(17,9), (18,9), (18,8), (19,8), (19,9), (20,9), (20,10), (21,10)], #부산\n",
    "    [(16,11), (16,13)], #울산\n",
    "    [(27,5), (27,6), (25,6)],]"
   ],
   "metadata": {
    "collapsed": false,
    "pycharm": {
     "name": "#%%6-4. 19대 대선 결과 득표율 시각화하기¶\n"
    }
   }
  },
  {
   "cell_type": "code",
   "execution_count": 49,
   "outputs": [],
   "source": [
    "final_elect_data.to_csv('./data_saved/final_elect_data', encoding='utf-8', sep=',')\n"
   ],
   "metadata": {
    "collapsed": false,
    "pycharm": {
     "name": "#%%\n"
    }
   }
  },
  {
   "cell_type": "code",
   "execution_count": null,
   "outputs": [],
   "source": [],
   "metadata": {
    "collapsed": false,
    "pycharm": {
     "name": "#%%\n"
    }
   }
  }
 ],
 "metadata": {
  "kernelspec": {
   "display_name": "Python 3",
   "language": "python",
   "name": "python3"
  },
  "language_info": {
   "codemirror_mode": {
    "name": "ipython",
    "version": 2
   },
   "file_extension": ".py",
   "mimetype": "text/x-python",
   "name": "python",
   "nbconvert_exporter": "python",
   "pygments_lexer": "ipython2",
   "version": "2.7.6"
  }
 },
 "nbformat": 4,
 "nbformat_minor": 0
}